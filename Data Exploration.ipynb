{
 "cells": [
  {
   "cell_type": "markdown",
   "metadata": {
    "deletable": true,
    "editable": true
   },
   "source": [
    "### Get the top 10 records in the trip table from the first month"
   ]
  },
  {
   "cell_type": "code",
   "execution_count": 1,
   "metadata": {
    "cell_status": {
     "execute_time": {
      "duration": 25504.885986328125,
      "end_time": 1595685631894.483
     }
    },
    "collapsed": false,
    "deletable": true,
    "editable": true
   },
   "outputs": [
    {
     "name": "stdout",
     "output_type": "stream",
     "text": [
      "Starting Spark application\n"
     ]
    },
    {
     "data": {
      "text/html": [
       "<table>\n",
       "<tr><th>ID</th><th>YARN Application ID</th><th>Kind</th><th>State</th><th>Spark UI</th><th>Driver log</th><th>Current session?</th></tr><tr><td>1</td><td>application_1595680205259_0005</td><td>pyspark</td><td>idle</td><td><a target=\"_blank\" href=\"http://hn0-sparkh.uwguulvqr1kevfnztmsfrc5rqc.bx.internal.cloudapp.net:8088/proxy/application_1595680205259_0005/\">Link</a></td><td><a target=\"_blank\" href=\"http://wn4-sparkh.uwguulvqr1kevfnztmsfrc5rqc.bx.internal.cloudapp.net:30060/node/containerlogs/container_e01_1595680205259_0005_01_000001/livy\">Link</a></td><td>✔</td></tr></table>"
      ],
      "text/plain": [
       "<IPython.core.display.HTML object>"
      ]
     },
     "metadata": {},
     "output_type": "display_data"
    },
    {
     "name": "stdout",
     "output_type": "stream",
     "text": [
      "SparkSession available as 'spark'.\n",
      "/usr/bin/anaconda/lib/python2.7/site-packages/matplotlib/font_manager.py:273: UserWarning: Matplotlib is building the font cache using fc-list. This may take a moment.\n",
      "  warnings.warn('Matplotlib is building the font cache using fc-list. This may take a moment.')"
     ]
    },
    {
     "data": {
      "application/vnd.jupyter.widget-view+json": {
       "model_id": "1bdf4bef7b6143c9afa35dfb66f5806d"
      }
     },
     "metadata": {},
     "output_type": "display_data"
    },
    {
     "data": {
      "application/vnd.jupyter.widget-view+json": {
       "model_id": "3265377b085a4278922a07c4e9dc3060"
      }
     },
     "metadata": {},
     "output_type": "display_data"
    }
   ],
   "source": [
    "%%sql\n",
    "\n",
    "select * from nyctaxidb.trip where month=1 limit 10"
   ]
  },
  {
   "cell_type": "markdown",
   "metadata": {
    "deletable": true,
    "editable": true
   },
   "source": [
    "### Get the top 10 records in the fare table from the first month:"
   ]
  },
  {
   "cell_type": "code",
   "execution_count": 2,
   "metadata": {
    "cell_status": {
     "execute_time": {
      "duration": 1281.2431640625,
      "end_time": 1595685633605.897
     }
    },
    "collapsed": false,
    "deletable": true,
    "editable": true
   },
   "outputs": [
    {
     "data": {
      "application/vnd.jupyter.widget-view+json": {
       "model_id": "53f004b9cd294ed9826bef0a5c078dca"
      }
     },
     "metadata": {},
     "output_type": "display_data"
    },
    {
     "data": {
      "application/vnd.jupyter.widget-view+json": {
       "model_id": "541d9bbb2ca440ec8c43edf478172bd3"
      }
     },
     "metadata": {},
     "output_type": "display_data"
    }
   ],
   "source": [
    "%%sql \n",
    "\n",
    "select * from nyctaxidb.fare where month=1 limit 10"
   ]
  },
  {
   "cell_type": "markdown",
   "metadata": {
    "deletable": true,
    "editable": true
   },
   "source": [
    "### View the number of records in each of the 12 partitions"
   ]
  },
  {
   "cell_type": "code",
   "execution_count": 3,
   "metadata": {
    "cell_status": {
     "execute_time": {
      "duration": 65611.76977539062,
      "end_time": 1595685700063.538
     }
    },
    "collapsed": false,
    "deletable": true,
    "editable": true
   },
   "outputs": [
    {
     "name": "stderr",
     "output_type": "stream",
     "text": [
      "Exception in thread Thread-11:\n",
      "Traceback (most recent call last):\n",
      "  File \"/usr/bin/anaconda/lib/python2.7/threading.py\", line 801, in __bootstrap_inner\n",
      "    self.run()\n",
      "  File \"/usr/bin/anaconda/lib/python2.7/threading.py\", line 754, in run\n",
      "    self.__target(*self.__args, **self.__kwargs)\n",
      "  File \"/usr/bin/anaconda/lib/python2.7/site-packages/sparkprogressindicator/sparkmonitorbackend.py\", line 196, in _check_jobs\n",
      "    self._send_msgs_for_fast_job(next_job)\n",
      "  File \"/usr/bin/anaconda/lib/python2.7/site-packages/sparkprogressindicator/sparkmonitorbackend.py\", line 290, in _send_msgs_for_fast_job\n",
      "    self._send_job_start(job)\n",
      "  File \"/usr/bin/anaconda/lib/python2.7/site-packages/sparkprogressindicator/sparkmonitorbackend.py\", line 375, in _send_job_start\n",
      "    stage = stage_dict[stageId]\n",
      "KeyError: 10\n",
      "\n"
     ]
    },
    {
     "data": {
      "application/vnd.jupyter.widget-view+json": {
       "model_id": "5e99af9bf10049b4ae1480d178e713f5"
      }
     },
     "metadata": {},
     "output_type": "display_data"
    },
    {
     "data": {
      "application/vnd.jupyter.widget-view+json": {
       "model_id": "944241f436314c1d9a909a8234c56683"
      }
     },
     "metadata": {},
     "output_type": "display_data"
    }
   ],
   "source": [
    "%%sql\n",
    "\n",
    "select month, count(*) from nyctaxidb.trip group by month"
   ]
  },
  {
   "cell_type": "markdown",
   "metadata": {
    "deletable": true,
    "editable": true
   },
   "source": [
    "### Total # of records"
   ]
  },
  {
   "cell_type": "code",
   "execution_count": 4,
   "metadata": {
    "cell_status": {
     "execute_time": {
      "duration": 41474.190185546875,
      "end_time": 1595685741912.345
     }
    },
    "collapsed": false,
    "deletable": true,
    "editable": true
   },
   "outputs": [
    {
     "name": "stderr",
     "output_type": "stream",
     "text": [
      "Exception in thread Thread-15:\n",
      "Traceback (most recent call last):\n",
      "  File \"/usr/bin/anaconda/lib/python2.7/threading.py\", line 801, in __bootstrap_inner\n",
      "    self.run()\n",
      "  File \"/usr/bin/anaconda/lib/python2.7/threading.py\", line 754, in run\n",
      "    self.__target(*self.__args, **self.__kwargs)\n",
      "  File \"/usr/bin/anaconda/lib/python2.7/site-packages/sparkprogressindicator/sparkmonitorbackend.py\", line 196, in _check_jobs\n",
      "    self._send_msgs_for_fast_job(next_job)\n",
      "  File \"/usr/bin/anaconda/lib/python2.7/site-packages/sparkprogressindicator/sparkmonitorbackend.py\", line 290, in _send_msgs_for_fast_job\n",
      "    self._send_job_start(job)\n",
      "  File \"/usr/bin/anaconda/lib/python2.7/site-packages/sparkprogressindicator/sparkmonitorbackend.py\", line 375, in _send_job_start\n",
      "    stage = stage_dict[stageId]\n",
      "KeyError: 12\n",
      "\n"
     ]
    },
    {
     "data": {
      "application/vnd.jupyter.widget-view+json": {
       "model_id": "ebf52862e8634b55a69ee3cfe0e6057c"
      }
     },
     "metadata": {},
     "output_type": "display_data"
    },
    {
     "data": {
      "application/vnd.jupyter.widget-view+json": {
       "model_id": "d41e782b9e8d42e6a3542e6ae0645fad"
      }
     },
     "metadata": {},
     "output_type": "display_data"
    }
   ],
   "source": [
    "%%sql\n",
    "\n",
    "select count(*) from nyctaxidb.fare"
   ]
  },
  {
   "cell_type": "markdown",
   "metadata": {
    "deletable": true,
    "editable": true
   },
   "source": [
    "### Trip distribution by medallion"
   ]
  },
  {
   "cell_type": "code",
   "execution_count": 5,
   "metadata": {
    "cell_status": {
     "execute_time": {
      "duration": 23577.72900390625,
      "end_time": 1595685765914.672
     }
    },
    "collapsed": false,
    "deletable": true,
    "editable": true
   },
   "outputs": [
    {
     "name": "stderr",
     "output_type": "stream",
     "text": [
      "Exception in thread Thread-16:\n",
      "Traceback (most recent call last):\n",
      "  File \"/usr/bin/anaconda/lib/python2.7/threading.py\", line 801, in __bootstrap_inner\n",
      "    self.run()\n",
      "  File \"/usr/bin/anaconda/lib/python2.7/threading.py\", line 754, in run\n",
      "    self.__target(*self.__args, **self.__kwargs)\n",
      "  File \"/usr/bin/anaconda/lib/python2.7/site-packages/sparkprogressindicator/sparkmonitorbackend.py\", line 196, in _check_jobs\n",
      "    self._send_msgs_for_fast_job(next_job)\n",
      "  File \"/usr/bin/anaconda/lib/python2.7/site-packages/sparkprogressindicator/sparkmonitorbackend.py\", line 290, in _send_msgs_for_fast_job\n",
      "    self._send_job_start(job)\n",
      "  File \"/usr/bin/anaconda/lib/python2.7/site-packages/sparkprogressindicator/sparkmonitorbackend.py\", line 375, in _send_job_start\n",
      "    stage = stage_dict[stageId]\n",
      "KeyError: 21\n",
      "\n"
     ]
    },
    {
     "data": {
      "application/vnd.jupyter.widget-view+json": {
       "model_id": "cbf41daf306747ecbe1c02ffcff4138a"
      }
     },
     "metadata": {},
     "output_type": "display_data"
    },
    {
     "data": {
      "application/vnd.jupyter.widget-view+json": {
       "model_id": "977775b0a46844889578887430bbebf2"
      }
     },
     "metadata": {},
     "output_type": "display_data"
    }
   ],
   "source": [
    "%%sql\n",
    "\n",
    "SELECT medallion, COUNT(*) as med_count\n",
    "FROM nyctaxidb.fare\n",
    "WHERE month<=3\n",
    "GROUP BY medallion\n",
    "HAVING med_count > 100\n",
    "ORDER BY med_count desc"
   ]
  },
  {
   "cell_type": "markdown",
   "metadata": {
    "deletable": true,
    "editable": true
   },
   "source": [
    "### Trip distribution by medallion and hack license"
   ]
  },
  {
   "cell_type": "code",
   "execution_count": 6,
   "metadata": {
    "cell_status": {
     "execute_time": {
      "duration": 21561.198974609375,
      "end_time": 1595685787911.31
     }
    },
    "collapsed": false,
    "deletable": true,
    "editable": true
   },
   "outputs": [
    {
     "name": "stderr",
     "output_type": "stream",
     "text": [
      "Exception in thread Thread-19:\n",
      "Traceback (most recent call last):\n",
      "  File \"/usr/bin/anaconda/lib/python2.7/threading.py\", line 801, in __bootstrap_inner\n",
      "    self.run()\n",
      "  File \"/usr/bin/anaconda/lib/python2.7/threading.py\", line 754, in run\n",
      "    self.__target(*self.__args, **self.__kwargs)\n",
      "  File \"/usr/bin/anaconda/lib/python2.7/site-packages/sparkprogressindicator/sparkmonitorbackend.py\", line 196, in _check_jobs\n",
      "    self._send_msgs_for_fast_job(next_job)\n",
      "  File \"/usr/bin/anaconda/lib/python2.7/site-packages/sparkprogressindicator/sparkmonitorbackend.py\", line 290, in _send_msgs_for_fast_job\n",
      "    self._send_job_start(job)\n",
      "  File \"/usr/bin/anaconda/lib/python2.7/site-packages/sparkprogressindicator/sparkmonitorbackend.py\", line 375, in _send_job_start\n",
      "    stage = stage_dict[stageId]\n",
      "KeyError: 24\n",
      "\n"
     ]
    },
    {
     "data": {
      "application/vnd.jupyter.widget-view+json": {
       "model_id": "ebb7db12fd244dcd8a984a1013ea5a5e"
      }
     },
     "metadata": {},
     "output_type": "display_data"
    },
    {
     "data": {
      "application/vnd.jupyter.widget-view+json": {
       "model_id": "cb72edb224f545ed88c1b92f9a8cbb76"
      }
     },
     "metadata": {},
     "output_type": "display_data"
    }
   ],
   "source": [
    "%%sql\n",
    "\n",
    "SELECT medallion, hack_license, COUNT(*) as trip_count\n",
    "FROM nyctaxidb.fare\n",
    "WHERE month=1\n",
    "GROUP BY medallion, hack_license\n",
    "HAVING trip_count > 100\n",
    "ORDER BY trip_count desc"
   ]
  },
  {
   "cell_type": "markdown",
   "metadata": {
    "deletable": true,
    "editable": true
   },
   "source": [
    "### Assessing data quality by checking for invalid longitude or latitude records"
   ]
  },
  {
   "cell_type": "code",
   "execution_count": 7,
   "metadata": {
    "cell_status": {
     "execute_time": {
      "duration": 21382.543212890625,
      "end_time": 1595685809662.322
     }
    },
    "collapsed": false,
    "deletable": true,
    "editable": true
   },
   "outputs": [
    {
     "name": "stderr",
     "output_type": "stream",
     "text": [
      "Exception in thread Thread-20:\n",
      "Traceback (most recent call last):\n",
      "  File \"/usr/bin/anaconda/lib/python2.7/threading.py\", line 801, in __bootstrap_inner\n",
      "    self.run()\n",
      "  File \"/usr/bin/anaconda/lib/python2.7/threading.py\", line 754, in run\n",
      "    self.__target(*self.__args, **self.__kwargs)\n",
      "  File \"/usr/bin/anaconda/lib/python2.7/site-packages/sparkprogressindicator/sparkmonitorbackend.py\", line 196, in _check_jobs\n",
      "    self._send_msgs_for_fast_job(next_job)\n",
      "  File \"/usr/bin/anaconda/lib/python2.7/site-packages/sparkprogressindicator/sparkmonitorbackend.py\", line 290, in _send_msgs_for_fast_job\n",
      "    self._send_job_start(job)\n",
      "  File \"/usr/bin/anaconda/lib/python2.7/site-packages/sparkprogressindicator/sparkmonitorbackend.py\", line 375, in _send_job_start\n",
      "    stage = stage_dict[stageId]\n",
      "KeyError: 27\n",
      "\n"
     ]
    },
    {
     "data": {
      "application/vnd.jupyter.widget-view+json": {
       "model_id": "c3a743f818214a2b998be48cbeb509b8"
      }
     },
     "metadata": {},
     "output_type": "display_data"
    },
    {
     "data": {
      "application/vnd.jupyter.widget-view+json": {
       "model_id": "773cdf87c5de46bb9c447fe696c2a689"
      }
     },
     "metadata": {},
     "output_type": "display_data"
    }
   ],
   "source": [
    "%%sql\n",
    "\n",
    "SELECT COUNT(*) FROM nyctaxidb.trip\n",
    "    WHERE month=1\n",
    "    AND  (CAST(pickup_longitude AS float) NOT BETWEEN -90 AND -30\n",
    "    OR    CAST(pickup_latitude AS float) NOT BETWEEN 30 AND 90\n",
    "    OR    CAST(dropoff_longitude AS float) NOT BETWEEN -90 AND -30\n",
    "    OR    CAST(dropoff_latitude AS float) NOT BETWEEN 30 AND 90)"
   ]
  },
  {
   "cell_type": "markdown",
   "metadata": {
    "deletable": true,
    "editable": true
   },
   "source": [
    "### Binary class distributions of trip tips"
   ]
  },
  {
   "cell_type": "code",
   "execution_count": 8,
   "metadata": {
    "cell_status": {
     "execute_time": {
      "duration": 51529.156005859375,
      "end_time": 1595685861588.33
     }
    },
    "collapsed": false,
    "deletable": true,
    "editable": true
   },
   "outputs": [
    {
     "name": "stderr",
     "output_type": "stream",
     "text": [
      "Exception in thread Thread-21:\n",
      "Traceback (most recent call last):\n",
      "  File \"/usr/bin/anaconda/lib/python2.7/threading.py\", line 801, in __bootstrap_inner\n",
      "    self.run()\n",
      "  File \"/usr/bin/anaconda/lib/python2.7/threading.py\", line 754, in run\n",
      "    self.__target(*self.__args, **self.__kwargs)\n",
      "  File \"/usr/bin/anaconda/lib/python2.7/site-packages/sparkprogressindicator/sparkmonitorbackend.py\", line 196, in _check_jobs\n",
      "    self._send_msgs_for_fast_job(next_job)\n",
      "  File \"/usr/bin/anaconda/lib/python2.7/site-packages/sparkprogressindicator/sparkmonitorbackend.py\", line 290, in _send_msgs_for_fast_job\n",
      "    self._send_job_start(job)\n",
      "  File \"/usr/bin/anaconda/lib/python2.7/site-packages/sparkprogressindicator/sparkmonitorbackend.py\", line 375, in _send_job_start\n",
      "    stage = stage_dict[stageId]\n",
      "KeyError: 32\n",
      "\n"
     ]
    },
    {
     "data": {
      "application/vnd.jupyter.widget-view+json": {
       "model_id": "7a2468793cc243059704f2dd99f8345b"
      }
     },
     "metadata": {},
     "output_type": "display_data"
    },
    {
     "data": {
      "application/vnd.jupyter.widget-view+json": {
       "model_id": "1ab7f3e7fd3b40f38d4555965eb85153"
      }
     },
     "metadata": {},
     "output_type": "display_data"
    }
   ],
   "source": [
    "%%sql\n",
    "\n",
    "SELECT tipped, COUNT(*) AS tip_freq\n",
    "FROM\n",
    "(\n",
    "    SELECT if(tip_amount > 0, 1, 0) as tipped, tip_amount\n",
    "    FROM nyctaxidb.fare\n",
    ")tc\n",
    "GROUP BY tipped"
   ]
  },
  {
   "cell_type": "markdown",
   "metadata": {
    "deletable": true,
    "editable": true
   },
   "source": [
    "### Class distributions in the multiclass setting"
   ]
  },
  {
   "cell_type": "code",
   "execution_count": 9,
   "metadata": {
    "cell_status": {
     "execute_time": {
      "duration": 51524.422119140625,
      "end_time": 1595685913524.313
     }
    },
    "collapsed": false,
    "deletable": true,
    "editable": true
   },
   "outputs": [
    {
     "name": "stderr",
     "output_type": "stream",
     "text": [
      "Exception in thread Thread-22:\n",
      "Traceback (most recent call last):\n",
      "  File \"/usr/bin/anaconda/lib/python2.7/threading.py\", line 801, in __bootstrap_inner\n",
      "    self.run()\n",
      "  File \"/usr/bin/anaconda/lib/python2.7/threading.py\", line 754, in run\n",
      "    self.__target(*self.__args, **self.__kwargs)\n",
      "  File \"/usr/bin/anaconda/lib/python2.7/site-packages/sparkprogressindicator/sparkmonitorbackend.py\", line 196, in _check_jobs\n",
      "    self._send_msgs_for_fast_job(next_job)\n",
      "  File \"/usr/bin/anaconda/lib/python2.7/site-packages/sparkprogressindicator/sparkmonitorbackend.py\", line 290, in _send_msgs_for_fast_job\n",
      "    self._send_job_start(job)\n",
      "  File \"/usr/bin/anaconda/lib/python2.7/site-packages/sparkprogressindicator/sparkmonitorbackend.py\", line 375, in _send_job_start\n",
      "    stage = stage_dict[stageId]\n",
      "KeyError: 35\n",
      "\n"
     ]
    },
    {
     "data": {
      "application/vnd.jupyter.widget-view+json": {
       "model_id": "231c628cac9241d7ba90e1769e7845a2"
      }
     },
     "metadata": {},
     "output_type": "display_data"
    },
    {
     "data": {
      "application/vnd.jupyter.widget-view+json": {
       "model_id": "3e6496ecebbd4e7a92d449f5e29d46e0"
      }
     },
     "metadata": {},
     "output_type": "display_data"
    }
   ],
   "source": [
    "%%sql\n",
    "\n",
    "SELECT tip_class, COUNT(*) AS tip_freq\n",
    "FROM\n",
    "(\n",
    "    SELECT if(tip_amount=0, 0,\n",
    "        if(tip_amount>0 and tip_amount<=5, 1,\n",
    "        if(tip_amount>5 and tip_amount<=10, 2,\n",
    "        if(tip_amount>10 and tip_amount<=20, 3, 4)))) as tip_class, tip_amount\n",
    "    FROM nyctaxidb.fare\n",
    ")tc\n",
    "GROUP BY tip_class"
   ]
  },
  {
   "cell_type": "markdown",
   "metadata": {
    "deletable": true,
    "editable": true
   },
   "source": [
    "### Compute the direct distance between two longitude-latitude locations"
   ]
  },
  {
   "cell_type": "code",
   "execution_count": 10,
   "metadata": {
    "cell_status": {
     "execute_time": {
      "duration": 1652.68896484375,
      "end_time": 1595685915616.547
     }
    },
    "collapsed": false,
    "deletable": true,
    "editable": true
   },
   "outputs": [
    {
     "name": "stderr",
     "output_type": "stream",
     "text": [
      "Exception in thread Thread-23:\n",
      "Traceback (most recent call last):\n",
      "  File \"/usr/bin/anaconda/lib/python2.7/threading.py\", line 801, in __bootstrap_inner\n",
      "    self.run()\n",
      "  File \"/usr/bin/anaconda/lib/python2.7/threading.py\", line 754, in run\n",
      "    self.__target(*self.__args, **self.__kwargs)\n",
      "  File \"/usr/bin/anaconda/lib/python2.7/site-packages/sparkprogressindicator/sparkmonitorbackend.py\", line 196, in _check_jobs\n",
      "    self._send_msgs_for_fast_job(next_job)\n",
      "  File \"/usr/bin/anaconda/lib/python2.7/site-packages/sparkprogressindicator/sparkmonitorbackend.py\", line 290, in _send_msgs_for_fast_job\n",
      "    self._send_job_start(job)\n",
      "  File \"/usr/bin/anaconda/lib/python2.7/site-packages/sparkprogressindicator/sparkmonitorbackend.py\", line 375, in _send_job_start\n",
      "    stage = stage_dict[stageId]\n",
      "KeyError: 38\n",
      "\n"
     ]
    },
    {
     "data": {
      "application/vnd.jupyter.widget-view+json": {
       "model_id": "cc4067e019744ab9912ce7c5ef775e24"
      }
     },
     "metadata": {},
     "output_type": "display_data"
    },
    {
     "data": {
      "application/vnd.jupyter.widget-view+json": {
       "model_id": "5185993f3b4247778197d39a368668cb"
      }
     },
     "metadata": {},
     "output_type": "display_data"
    }
   ],
   "source": [
    "%%sql\n",
    "\n",
    "select pickup_longitude, pickup_latitude, dropoff_longitude, dropoff_latitude, trip_distance, trip_time_in_secs,\n",
    "3959*2*2*atan((1-sqrt(1-pow(sin((dropoff_latitude-pickup_latitude)\n",
    " *radians(180)/180/2),2)-cos(pickup_latitude*radians(180)/180)\n",
    " *cos(dropoff_latitude*radians(180)/180)*pow(sin((dropoff_longitude-pickup_longitude)*radians(180)/180/2),2)))\n",
    " /sqrt(pow(sin((dropoff_latitude-pickup_latitude)*radians(180)/180/2),2)\n",
    " +cos(pickup_latitude*radians(180)/180)*cos(dropoff_latitude*radians(180)/180)*\n",
    " pow(sin((dropoff_longitude-pickup_longitude)*radians(180)/180/2),2))) as direct_distance\n",
    "from nyctaxidb.trip\n",
    "where month=1\n",
    "and pickup_longitude between -90 and -30\n",
    "and pickup_latitude between 30 and 90\n",
    "and dropoff_longitude between -90 and -30\n",
    "and dropoff_latitude between 30 and 90"
   ]
  }
 ],
 "metadata": {
  "kernelspec": {
   "display_name": "PySpark",
   "language": "",
   "name": "pysparkkernel"
  },
  "language_info": {
   "codemirror_mode": {
    "name": "python",
    "version": 2
   },
   "mimetype": "text/x-python",
   "name": "pyspark",
   "pygments_lexer": "python2"
  }
 },
 "nbformat": 4,
 "nbformat_minor": 2
}