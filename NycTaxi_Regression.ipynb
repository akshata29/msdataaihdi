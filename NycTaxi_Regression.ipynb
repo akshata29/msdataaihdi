{
 "cells": [
  {
   "cell_type": "markdown",
   "metadata": {
    "deletable": true,
    "editable": true
   },
   "source": [
    "## Exploration and Modeling of 2013 NYC Taxi Trip and Fare Dataset on Spark 2.0 HDInsight Clusters (pySpark3)"
   ]
  },
  {
   "cell_type": "markdown",
   "metadata": {
    "deletable": true,
    "editable": true
   },
   "source": [
    "---------------------------------\n",
    "### Here we show key features and capabilities of Spark's MLlib toolkit using the NYC taxi trip and fare data-set from 2013 (about 40 Gb uncompressed). We take about 10% of the sample of this data (from the month of December 2013, about 3.6 Gb) to predict the amount of tip paid for each taxi trip in NYC based on features such as trip distance, number of passengers, trip distance etc. We have shown relevant plots in Python.\n",
    "\n",
    "### We have sampled the data in order for the runs to finish quickly. The same code (with minor modifications) can be run on the full 2013 data-set.\n",
    "\n",
    "### This notebook takes about 15 mins to run on a 2 worker-node cluster(D12_V2).\n",
    "\n",
    "\n",
    "### The nobebook runs in the PySpark3 kernel in Jupyter.\n",
    "----------------------------------"
   ]
  },
  {
   "cell_type": "markdown",
   "metadata": {
    "deletable": true,
    "editable": true
   },
   "source": [
    "### OBJECTIVE: Show use of Spark MLlib's functions for featurization and ML tasks.\n",
    "\n",
    "### The learning task is to predict the amount of tip paid in (dollars) paid for each taxi trip in December 2013\n",
    "\n",
    "#### We have shown the following steps:\n",
    "1. Data ingestion, joining, and wrangling.\n",
    "2. Data exploration and plotting.\n",
    "3. Data preparation (featurizing/transformation).\n",
    "4. Modeling (using incl. hyperparameter tuning with cross-validation), prediction, model persistance.\n",
    "5. Model evaluation on an independent validation data-set.\n",
    "\n",
    "Through the above steps we highlight Spark SQL, as well as, MLlib's modeling and transformation functions."
   ]
  },
  {
   "cell_type": "markdown",
   "metadata": {
    "deletable": true,
    "editable": true
   },
   "source": [
    "## Set directory paths and location of training, validation files, as well as model location in blob storage\n",
    "NOTE: The blob storage attached to the HDI cluster is referenced as: wasb:/// (Windows Azure Storage Blob). Other blob storage accounts are referenced as: wasb://"
   ]
  },
  {
   "cell_type": "code",
   "execution_count": 1,
   "metadata": {
    "cell_status": {
     "execute_time": {
      "duration": 37.169189453125,
      "end_time": 1595695998545.108
     }
    },
    "collapsed": false,
    "deletable": true,
    "editable": true
   },
   "outputs": [
    {
     "name": "stdout",
     "output_type": "stream",
     "text": [
      "Starting Spark application\n"
     ]
    },
    {
     "data": {
      "text/html": [
       "<table>\n",
       "<tr><th>ID</th><th>YARN Application ID</th><th>Kind</th><th>State</th><th>Spark UI</th><th>Driver log</th><th>Current session?</th></tr><tr><td>3</td><td>application_1595680205259_0007</td><td>pyspark3</td><td>idle</td><td><a target=\"_blank\" href=\"http://hn0-sparkh.uwguulvqr1kevfnztmsfrc5rqc.bx.internal.cloudapp.net:8088/proxy/application_1595680205259_0007/\">Link</a></td><td><a target=\"_blank\" href=\"http://wn3-sparkh.uwguulvqr1kevfnztmsfrc5rqc.bx.internal.cloudapp.net:30060/node/containerlogs/container_e01_1595680205259_0007_01_000001/livy\">Link</a></td><td>✔</td></tr></table>"
      ],
      "text/plain": [
       "<IPython.core.display.HTML object>"
      ]
     },
     "metadata": {},
     "output_type": "display_data"
    },
    {
     "name": "stdout",
     "output_type": "stream",
     "text": [
      "SparkSession available as 'spark'.\n"
     ]
    }
   ],
   "source": [
    "# 3. Set model storage directory path. This is where models will be saved.\n",
    "modelDir = \"/nyctaxiraw/models/\"; # The last backslash is needed;\n",
    "\n",
    "# 4. Set data storage path. This is where data is sotred on the blob attached to the cluster.\n",
    "dataDir = \"/nyctaxiraw/data/\"; # The last backslash is needed;"
   ]
  },
  {
   "cell_type": "markdown",
   "metadata": {
    "deletable": true,
    "editable": true
   },
   "source": [
    "## Set SQL context and import necessary libraries"
   ]
  },
  {
   "cell_type": "code",
   "execution_count": 2,
   "metadata": {
    "cell_status": {
     "execute_time": {
      "duration": 48.27587890625,
      "end_time": 1595696057771.948
     }
    },
    "collapsed": false,
    "deletable": true,
    "editable": true
   },
   "outputs": [],
   "source": [
    "from pyspark import SparkConf\n",
    "from pyspark import SparkContext\n",
    "from pyspark.sql import SQLContext\n",
    "from pyspark.sql.functions import UserDefinedFunction\n",
    "from pyspark.sql.types import *\n",
    "import matplotlib.pyplot as plt\n",
    "import numpy as np\n",
    "import datetime\n",
    "\n",
    "sqlContext = SQLContext(sc)"
   ]
  },
  {
   "cell_type": "markdown",
   "metadata": {
    "deletable": true,
    "editable": true
   },
   "source": [
    "## Data ingestion and wrangling using Spark SQL"
   ]
  },
  {
   "cell_type": "markdown",
   "metadata": {
    "deletable": true,
    "editable": true
   },
   "source": [
    "#### Data import and registering as tables"
   ]
  },
  {
   "cell_type": "code",
   "execution_count": 3,
   "metadata": {
    "cell_status": {
     "execute_time": {
      "duration": 3268.553955078125,
      "end_time": 1595696067783.646
     }
    },
    "collapsed": true,
    "deletable": true,
    "editable": true
   },
   "outputs": [],
   "source": [
    "## READ IN TRIP DATA FRAME FROM table\n",
    "# hivesampletabledf is a dataframe\n",
    "trip = spark.table('nyctaxidb.trip')\n",
    "#trip = spark.read.csv(path=trip_file_loc, header=True, inferSchema=True)\n",
    "\n",
    "## READ IN FARE DATA FRAME FROM CSV\n",
    "fare = spark.table('nyctaxidb.fare')"
   ]
  },
  {
   "cell_type": "code",
   "execution_count": 4,
   "metadata": {
    "cell_status": {
     "execute_time": {
      "duration": 235.2138671875,
      "end_time": 1595696068028.577
     }
    },
    "collapsed": false,
    "deletable": true,
    "editable": true
   },
   "outputs": [
    {
     "name": "stdout",
     "output_type": "stream",
     "text": [
      "root\n",
      " |-- medallion: string (nullable = true)\n",
      " |-- hack_license: string (nullable = true)\n",
      " |-- vendor_id: string (nullable = true)\n",
      " |-- rate_code: string (nullable = true)\n",
      " |-- store_and_fwd_flag: string (nullable = true)\n",
      " |-- pickup_datetime: string (nullable = true)\n",
      " |-- dropoff_datetime: string (nullable = true)\n",
      " |-- passenger_count: integer (nullable = true)\n",
      " |-- trip_time_in_secs: double (nullable = true)\n",
      " |-- trip_distance: double (nullable = true)\n",
      " |-- pickup_longitude: double (nullable = true)\n",
      " |-- pickup_latitude: double (nullable = true)\n",
      " |-- dropoff_longitude: double (nullable = true)\n",
      " |-- dropoff_latitude: double (nullable = true)\n",
      " |-- month: integer (nullable = true)\n",
      "\n",
      "root\n",
      " |-- medallion: string (nullable = true)\n",
      " |-- hack_license: string (nullable = true)\n",
      " |-- vendor_id: string (nullable = true)\n",
      " |-- pickup_datetime: string (nullable = true)\n",
      " |-- payment_type: string (nullable = true)\n",
      " |-- fare_amount: double (nullable = true)\n",
      " |-- surcharge: double (nullable = true)\n",
      " |-- mta_tax: double (nullable = true)\n",
      " |-- tip_amount: double (nullable = true)\n",
      " |-- tolls_amount: double (nullable = true)\n",
      " |-- total_amount: double (nullable = true)\n",
      " |-- month: integer (nullable = true)"
     ]
    }
   ],
   "source": [
    "## CHECK SCHEMA OF TRIP AND FARE TABLES\n",
    "trip.printSchema()\n",
    "fare.printSchema()"
   ]
  },
  {
   "cell_type": "markdown",
   "metadata": {
    "deletable": true,
    "editable": true
   },
   "source": [
    "#### Using Spark SQL to join, clean and featurize data"
   ]
  },
  {
   "cell_type": "code",
   "execution_count": 5,
   "metadata": {
    "cell_status": {
     "execute_time": {
      "duration": 749.544189453125,
      "end_time": 1595696069843.465
     }
    },
    "collapsed": false,
    "deletable": true,
    "editable": true
   },
   "outputs": [],
   "source": [
    "## USING SQL: MERGE TRIP AND FARE DATA-SETS TO CREATE A JOINED DATA-FRAME\n",
    "## ELIMINATE SOME COLUMNS, AND FILTER ROWS WTIH VALUES OF SOME COLUMNS\n",
    "sqlStatement = \"\"\"SELECT t.medallion, t.hack_license,\n",
    "  f.total_amount, f.tolls_amount,\n",
    "  hour(f.pickup_datetime) as pickup_hour, f.vendor_id, f.fare_amount, \n",
    "  f.surcharge, f.tip_amount, f.payment_type, t.rate_code, \n",
    "  t.passenger_count, t.trip_distance, t.trip_time_in_secs \n",
    "  FROM nyctaxidb.trip t, nyctaxidb.fare f  \n",
    "  WHERE t.medallion = f.medallion AND t.hack_license = f.hack_license \n",
    "  AND t.pickup_datetime = f.pickup_datetime \n",
    "  AND t.passenger_count > 0 and t.passenger_count < 8 \n",
    "  AND f.tip_amount >= 0 AND f.tip_amount <= 25 \n",
    "  AND f.fare_amount >= 1 AND f.fare_amount <= 250 \n",
    "  AND f.tip_amount < f.fare_amount AND t.trip_distance > 0 \n",
    "  AND t.trip_distance <= 100 AND t.trip_time_in_secs >= 30 \n",
    "  AND t.trip_time_in_secs <= 7200 AND t.rate_code <= 5\n",
    "  AND f.payment_type in ('CSH','CRD')\"\"\"\n",
    "trip_fareDF = spark.sql(sqlStatement)\n",
    "\n",
    "# REGISTER JOINED TRIP-FARE DF IN SQL-CONTEXT\n",
    "trip_fareDF.createOrReplaceTempView(\"trip_fare\")"
   ]
  },
  {
   "cell_type": "code",
   "execution_count": 6,
   "metadata": {
    "cell_status": {
     "execute_time": {
      "duration": 745.076904296875,
      "end_time": 1595696081756.333
     }
    },
    "collapsed": false,
    "deletable": true,
    "editable": true
   },
   "outputs": [
    {
     "name": "stdout",
     "output_type": "stream",
     "text": [
      "+--------+---------------+-----------+\n",
      "|database|      tableName|isTemporary|\n",
      "+--------+---------------+-----------+\n",
      "| default|hivesampletable|      false|\n",
      "|        |      trip_fare|       true|\n",
      "+--------+---------------+-----------+"
     ]
    }
   ],
   "source": [
    "## SHOW WHICH TABLES ARE REGISTERED IN SQL-CONTEXT\n",
    "spark.sql(\"show tables\").show()"
   ]
  },
  {
   "cell_type": "markdown",
   "metadata": {
    "deletable": true,
    "editable": true
   },
   "source": [
    "#### Sample data for creating and evaluating model & save in blob"
   ]
  },
  {
   "cell_type": "code",
   "execution_count": 9,
   "metadata": {
    "cell_status": {
     "execute_time": {
      "duration": 300647.10986328125,
      "end_time": 1595686685490.087
     }
    },
    "collapsed": false,
    "deletable": true,
    "editable": true
   },
   "outputs": [],
   "source": [
    "# SAMPLE 10% OF DATA, SPLIT INTO TRAIINING AND VALIDATION AND SAVE IN BLOB\n",
    "trip_fare_featSampled = trip_fareDF.sample(False, 0.1, seed=1234)\n",
    "trainfilename = dataDir + \"TrainData\";\n",
    "trip_fare_featSampled.repartition(10).write.mode(\"overwrite\").parquet(trainfilename)"
   ]
  },
  {
   "cell_type": "markdown",
   "metadata": {
    "deletable": true,
    "editable": true
   },
   "source": [
    "## Data ingestion & cleanup: Read in the joined taxi trip and fare training file (as parquet), format and clean data, and create data-frame"
   ]
  },
  {
   "cell_type": "code",
   "execution_count": 10,
   "metadata": {
    "cell_status": {
     "execute_time": {
      "duration": 7302.017822265625,
      "end_time": 1595686728574.123
     }
    },
    "collapsed": false,
    "deletable": true,
    "editable": true
   },
   "outputs": [],
   "source": [
    "## READ IN DATA FRAME FROM CSV\n",
    "taxi_train_df = spark.read.parquet(trainfilename)\n",
    "\n",
    "## CREATE A CLEANED DATA-FRAME BY DROPPING SOME UN-NECESSARY COLUMNS & FILTERING FOR UNDESIRED VALUES OR OUTLIERS\n",
    "taxi_df_train_cleaned = taxi_train_df.drop('medallion').drop('hack_license').drop('total_amount').drop('tolls_amount')\\\n",
    "    .filter(\"passenger_count > 0 and passenger_count < 8 AND tip_amount >= 0 AND tip_amount < 15 AND \\\n",
    "            fare_amount >= 1 AND fare_amount < 150 AND trip_distance > 0 AND trip_distance < 100 AND \\\n",
    "            trip_time_in_secs > 30 AND trip_time_in_secs < 7200\" )\n",
    "\n",
    "## PERSIST AND MATERIALIZE DF IN MEMORY    \n",
    "taxi_df_train_cleaned.persist()\n",
    "taxi_df_train_cleaned.count()\n",
    "\n",
    "## REGISTER DATA-FRAME AS A TEMP-TABLE IN SQL-CONTEXT\n",
    "taxi_df_train_cleaned.createOrReplaceTempView(\"taxi_train\")"
   ]
  },
  {
   "cell_type": "code",
   "execution_count": 11,
   "metadata": {
    "cell_status": {
     "execute_time": {
      "duration": 31.30078125,
      "end_time": 1595686737160.466
     }
    },
    "collapsed": false,
    "deletable": true,
    "editable": true
   },
   "outputs": [
    {
     "name": "stdout",
     "output_type": "stream",
     "text": [
      "root\n",
      " |-- pickup_hour: integer (nullable = true)\n",
      " |-- vendor_id: string (nullable = true)\n",
      " |-- fare_amount: double (nullable = true)\n",
      " |-- surcharge: double (nullable = true)\n",
      " |-- tip_amount: double (nullable = true)\n",
      " |-- payment_type: string (nullable = true)\n",
      " |-- rate_code: string (nullable = true)\n",
      " |-- passenger_count: integer (nullable = true)\n",
      " |-- trip_distance: double (nullable = true)\n",
      " |-- trip_time_in_secs: double (nullable = true)"
     ]
    }
   ],
   "source": [
    "taxi_df_train_cleaned.printSchema()"
   ]
  },
  {
   "cell_type": "markdown",
   "metadata": {
    "deletable": true,
    "editable": true
   },
   "source": [
    "<a name=\"exploration\"></a>\n",
    "## Data exploration & visualization: Plotting of target variables and features"
   ]
  },
  {
   "cell_type": "markdown",
   "metadata": {
    "deletable": true,
    "editable": true
   },
   "source": [
    "#### First, summarize data using SQL, this outputs a Spark data frame. If the data-set is too large, it can be sampled"
   ]
  },
  {
   "cell_type": "code",
   "execution_count": 15,
   "metadata": {
    "cell_status": {
     "execute_time": {
      "duration": 370.483154296875,
      "end_time": 1595686836631.105
     }
    },
    "collapsed": false,
    "deletable": true,
    "editable": true
   },
   "outputs": [],
   "source": [
    "%%sql -q -o sqlResultsPD\n",
    "SELECT fare_amount, passenger_count, tip_amount FROM taxi_train WHERE passenger_count > 0 AND passenger_count < 7 AND fare_amount > 0 AND fare_amount < 100 AND tip_amount > 0 AND tip_amount < 15"
   ]
  },
  {
   "cell_type": "code",
   "execution_count": 14,
   "metadata": {
    "cell_status": {
     "execute_time": {
      "duration": 355.0830078125,
      "end_time": 1595686812111.169
     }
    },
    "collapsed": false,
    "deletable": true,
    "editable": true
   },
   "outputs": [
    {
     "data": {
      "application/vnd.jupyter.widget-view+json": {
       "model_id": "2144b28bdcf141cfaecaa0c57a906e8a"
      }
     },
     "metadata": {},
     "output_type": "display_data"
    },
    {
     "data": {
      "application/vnd.jupyter.widget-view+json": {
       "model_id": "eea1793b12fe4cb6a00dd0498553cfe0"
      }
     },
     "metadata": {},
     "output_type": "display_data"
    }
   ],
   "source": [
    "%%sql\n",
    "SELECT fare_amount, passenger_count, tip_amount FROM taxi_train"
   ]
  },
  {
   "cell_type": "markdown",
   "metadata": {
    "deletable": true,
    "editable": true
   },
   "source": [
    "#### Plot histogram of tip amount, relationship between tip amount vs. other features"
   ]
  },
  {
   "cell_type": "code",
   "execution_count": 16,
   "metadata": {
    "cell_status": {
     "execute_time": {
      "duration": 7848.530029296875,
      "end_time": 1595686851955.733
     }
    },
    "collapsed": false,
    "deletable": true,
    "editable": true
   },
   "outputs": [
    {
     "name": "stderr",
     "output_type": "stream",
     "text": [
      "/usr/bin/anaconda/lib/python2.7/site-packages/matplotlib/font_manager.py:273: UserWarning:\n",
      "\n",
      "Matplotlib is building the font cache using fc-list. This may take a moment.\n",
      "\n"
     ]
    },
    {
     "data": {
      "image/png": "[encoded data removed]",
      "text/plain": [
       "<matplotlib.figure.Figure at 0x7f2c30b80d90>"
      ]
     },
     "metadata": {},
     "output_type": "display_data"
    },
    {
     "data": {
      "text/plain": [
       "<matplotlib.figure.Figure at 0x7f2c30b80fd0>"
      ]
     },
     "metadata": {},
     "output_type": "display_data"
    },
    {
     "data": {
      "image/png": "[encoded data removed]",
      "text/plain": [
       "<matplotlib.figure.Figure at 0x7f2c33170d10>"
      ]
     },
     "metadata": {},
     "output_type": "display_data"
    },
    {
     "data": {
      "text/plain": [
       "<matplotlib.figure.Figure at 0x7f2c30b80e50>"
      ]
     },
     "metadata": {},
     "output_type": "display_data"
    },
    {
     "data": {
      "image/png": "[encoded data removed]",
      "text/plain": [
       "<matplotlib.figure.Figure at 0x7f2c4837b210>"
      ]
     },
     "metadata": {},
     "output_type": "display_data"
    },
    {
     "data": {
      "text/plain": [
       "<matplotlib.figure.Figure at 0x7f2c4837b290>"
      ]
     },
     "metadata": {},
     "output_type": "display_data"
    }
   ],
   "source": [
    "%%local\n",
    "%matplotlib inline\n",
    "import matplotlib.pyplot as plt\n",
    "## %%local creates a pandas data-frame on the head node memory, from spark data-frame, \n",
    "## which can then be used for plotting. Here, sampling data is a good idea, depending on the memory of the head node\n",
    "\n",
    "# TIP BY PAYMENT TYPE AND PASSENGER COUNT\n",
    "ax1 = sqlResultsPD[['tip_amount']].plot(kind='hist', bins=25, facecolor='lightblue')\n",
    "ax1.set_title('Tip amount distribution')\n",
    "ax1.set_xlabel('Tip Amount ($)'); ax1.set_ylabel('Counts');\n",
    "plt.figure(figsize=(4,4)); plt.suptitle(''); plt.show()\n",
    "\n",
    "# TIP BY PASSENGER COUNT\n",
    "ax2 = sqlResultsPD.boxplot(column=['tip_amount'], by=['passenger_count'])\n",
    "ax2.set_title('Tip amount by Passenger count')\n",
    "ax2.set_xlabel('Passenger count'); ax2.set_ylabel('Tip Amount ($)');\n",
    "plt.figure(figsize=(4,4)); plt.suptitle(''); plt.show()\n",
    "\n",
    "# TIP AMOUNT BY FARE AMOUNT, POINTS ARE SCALED BY PASSENGER COUNT\n",
    "ax = sqlResultsPD.plot(kind='scatter', x= 'fare_amount', y = 'tip_amount', c='blue', alpha = 0.10, s=2.5*(sqlResultsPD.passenger_count))\n",
    "ax.set_title('Tip amount by Fare amount')\n",
    "ax.set_xlabel('Fare Amount ($)'); ax.set_ylabel('Tip Amount ($)');\n",
    "plt.axis([-2, 80, -2, 20])\n",
    "plt.figure(figsize=(4,4)); plt.suptitle(''); plt.show()"
   ]
  },
  {
   "cell_type": "markdown",
   "metadata": {
    "deletable": true,
    "editable": true
   },
   "source": [
    "<a name=\"transformation\"></a>\n",
    "## Feature engineering, transformation and data preparation for modeling"
   ]
  },
  {
   "cell_type": "markdown",
   "metadata": {
    "deletable": true,
    "editable": true
   },
   "source": [
    "#### Create a new feature by binning hours into traffic time buckets using Spark SQL"
   ]
  },
  {
   "cell_type": "code",
   "execution_count": 17,
   "metadata": {
    "cell_status": {
     "execute_time": {
      "duration": 261.922119140625,
      "end_time": 1595686860341.096
     }
    },
    "collapsed": false,
    "deletable": true,
    "editable": true
   },
   "outputs": [],
   "source": [
    "### CREATE FOUR BUCKETS FOR TRAFFIC TIMES\n",
    "sqlStatement = \"\"\"SELECT payment_type, pickup_hour, fare_amount, tip_amount, \n",
    "    vendor_id, rate_code, passenger_count, trip_distance, trip_time_in_secs, \n",
    "  CASE\n",
    "    WHEN (pickup_hour <= 6 OR pickup_hour >= 20) THEN 'Night'\n",
    "    WHEN (pickup_hour >= 7 AND pickup_hour <= 10) THEN 'AMRush' \n",
    "    WHEN (pickup_hour >= 11 AND pickup_hour <= 15) THEN 'Afternoon'\n",
    "    WHEN (pickup_hour >= 16 AND pickup_hour <= 19) THEN 'PMRush'\n",
    "    END as TrafficTimeBins,\n",
    "  CASE\n",
    "    WHEN (tip_amount > 0) THEN 1 \n",
    "    WHEN (tip_amount <= 0) THEN 0 \n",
    "    END as tipped\n",
    "  FROM taxi_train\"\"\"\n",
    "\n",
    "taxi_df_train_with_newFeatures = spark.sql(sqlStatement)"
   ]
  },
  {
   "cell_type": "markdown",
   "metadata": {
    "deletable": true,
    "editable": true
   },
   "source": [
    "#### Indexing of categorical features\n",
    "Here we only transform some variables to show examples, which are character strings. Other variables, such as week-day, which are represented by numerical valies, can also be indexed as categorical variables.\n",
    "\n",
    "For indexing, we used stringIndexer function from MLlib."
   ]
  },
  {
   "cell_type": "code",
   "execution_count": 18,
   "metadata": {
    "cell_status": {
     "execute_time": {
      "duration": 7286.797119140625,
      "end_time": 1595686871725.526
     }
    },
    "collapsed": false,
    "deletable": true,
    "editable": true
   },
   "outputs": [],
   "source": [
    "from pyspark.ml import Pipeline\n",
    "from pyspark.ml.feature import OneHotEncoder, StringIndexer, VectorIndexer\n",
    "\n",
    "# DEFINE THE TRANSFORMATIONS THAT NEEDS TO BE APPLIED TO SOME OF THE FEATURES\n",
    "sI1 = StringIndexer(inputCol=\"vendor_id\", outputCol=\"vendorIndex\");\n",
    "sI2 = StringIndexer(inputCol=\"rate_code\", outputCol=\"rateIndex\");\n",
    "sI3 = StringIndexer(inputCol=\"payment_type\", outputCol=\"paymentIndex\");\n",
    "sI4 = StringIndexer(inputCol=\"TrafficTimeBins\", outputCol=\"TrafficTimeBinsIndex\");\n",
    "\n",
    "# APPLY TRANSFORMATIONS\n",
    "encodedFinal = Pipeline(stages=[sI1, sI2, sI3, sI4]).fit(taxi_df_train_with_newFeatures).transform(taxi_df_train_with_newFeatures);"
   ]
  },
  {
   "cell_type": "markdown",
   "metadata": {
    "deletable": true,
    "editable": true
   },
   "source": [
    "#### Split data into train/test. Training fraction will be used to create model, and testing fraction will be used to evaluate model."
   ]
  },
  {
   "cell_type": "code",
   "execution_count": 19,
   "metadata": {
    "cell_status": {
     "execute_time": {
      "duration": 23384.09716796875,
      "end_time": 1595686897778.152
     }
    },
    "collapsed": false,
    "deletable": true,
    "editable": true
   },
   "outputs": [
    {
     "name": "stdout",
     "output_type": "stream",
     "text": [
      "4270840"
     ]
    }
   ],
   "source": [
    "trainingFraction = 0.75; testingFraction = (1-trainingFraction);\n",
    "seed = 1234;\n",
    "\n",
    "# SPLIT SAMPLED DATA-FRAME INTO TRAIN/TEST, WITH A RANDOM COLUMN ADDED FOR DOING CV (SHOWN LATER)\n",
    "trainData, testData = encodedFinal.randomSplit([trainingFraction, testingFraction], seed=seed);\n",
    "\n",
    "# CACHE DATA FRAMES IN MEMORY\n",
    "trainData.persist(); trainData.count()\n",
    "testData.persist(); testData.count()"
   ]
  },
  {
   "cell_type": "markdown",
   "metadata": {
    "deletable": true,
    "editable": true
   },
   "source": [
    "## Train a regression model: Predict the amount of tip paid for taxi trips"
   ]
  },
  {
   "cell_type": "markdown",
   "metadata": {
    "deletable": true,
    "editable": true
   },
   "source": [
    "### Train Elastic Net regression model, and evaluate performance on test data"
   ]
  },
  {
   "cell_type": "code",
   "execution_count": 32,
   "metadata": {
    "cell_status": {
     "execute_time": {
      "duration": 13389.427978515625,
      "end_time": 1595687369159.717
     }
    },
    "collapsed": false,
    "deletable": true,
    "editable": true
   },
   "outputs": [],
   "source": [
    "from pyspark.ml.feature import RFormula\n",
    "from pyspark.ml.regression import LinearRegression\n",
    "from pyspark.mllib.evaluation import RegressionMetrics\n",
    "\n",
    "## DEFINE REGRESSION FURMULA\n",
    "regFormula = RFormula(formula=\"tip_amount ~ paymentIndex + vendorIndex + rateIndex + TrafficTimeBinsIndex + pickup_hour + passenger_count + trip_time_in_secs + trip_distance + fare_amount\")\n",
    "\n",
    "## DEFINE INDEXER FOR CATEGORIAL VARIABLES\n",
    "featureIndexer = VectorIndexer(inputCol=\"features\", outputCol=\"indexedFeatures\", maxCategories=32)\n",
    "\n",
    "## DEFINE ELASTIC NET REGRESSOR\n",
    "eNet = LinearRegression(featuresCol=\"indexedFeatures\", maxIter=25, regParam=0.01, elasticNetParam=0.5)\n",
    "\n",
    "## Fit model, with formula and other transformations\n",
    "model = Pipeline(stages=[regFormula, featureIndexer, eNet]).fit(trainData)\n",
    "\n",
    "## PREDICT ON TEST DATA AND EVALUATE\n",
    "predictions = model.transform(testData)\n",
    "predictionAndLabels = predictions.select(\"label\",\"prediction\").rdd\n",
    "#testMetrics = RegressionMetrics(predictionAndLabels)\n",
    "#print(\"RMSE = %s\" % testMetrics.rootMeanSquaredError)\n",
    "#print(\"R-sqr = %s\" % testMetrics.r2)\n",
    "\n",
    "## PLOC ACTUALS VS. PREDICTIONS\n",
    "predictions.select(\"label\",\"prediction\").createOrReplaceTempView(\"tmp_results\");"
   ]
  },
  {
   "cell_type": "markdown",
   "metadata": {
    "deletable": true,
    "editable": true
   },
   "source": [
    "### Train Gradient Boosting Tree regression model, and evaluate performance on test data"
   ]
  },
  {
   "cell_type": "code",
   "execution_count": 33,
   "metadata": {
    "cell_status": {
     "execute_time": {
      "duration": 79697.71704101562,
      "end_time": 1595687479512.827
     }
    },
    "collapsed": false,
    "deletable": true,
    "editable": true
   },
   "outputs": [],
   "source": [
    "from pyspark.ml.regression import GBTRegressor\n",
    "\n",
    "## DEFINE REGRESSION FURMULA\n",
    "regFormula = RFormula(formula=\"tip_amount ~ paymentIndex + vendorIndex + rateIndex + TrafficTimeBinsIndex + pickup_hour + passenger_count + trip_time_in_secs + trip_distance + fare_amount\")\n",
    "\n",
    "## DEFINE INDEXER FOR CATEGORIAL VARIABLES\n",
    "featureIndexer = VectorIndexer(inputCol=\"features\", outputCol=\"indexedFeatures\", maxCategories=32)\n",
    "\n",
    "## DEFINE GRADIENT BOOSTING TREE REGRESSOR\n",
    "gBT = GBTRegressor(featuresCol=\"indexedFeatures\", maxIter=10)\n",
    "\n",
    "## Fit model, with formula and other transformations\n",
    "model = Pipeline(stages=[regFormula, featureIndexer, gBT]).fit(trainData)\n",
    "\n",
    "## PREDICT ON TEST DATA AND EVALUATE\n",
    "predictions = model.transform(testData)\n",
    "predictionAndLabels = predictions.select(\"label\",\"prediction\").rdd\n",
    "#testMetrics = RegressionMetrics(predictionAndLabels)\n",
    "#print(\"RMSE = %s\" % testMetrics.rootMeanSquaredError)\n",
    "#print(\"R-sqr = %s\" % testMetrics.r2)\n",
    "\n",
    "## PLOC ACTUALS VS. PREDICTIONS\n",
    "predictions.select(\"label\",\"prediction\").createOrReplaceTempView(\"tmp_results\");"
   ]
  },
  {
   "cell_type": "markdown",
   "metadata": {
    "deletable": true,
    "editable": true
   },
   "source": [
    "### Train a random forest regression model using the Pipeline function, save, and evaluate on test data set"
   ]
  },
  {
   "cell_type": "code",
   "execution_count": 34,
   "metadata": {
    "cell_status": {
     "execute_time": {
      "duration": 81622.48681640625,
      "end_time": 1595687561146.406
     }
    },
    "collapsed": false,
    "deletable": true,
    "editable": true
   },
   "outputs": [],
   "source": [
    "from pyspark.ml.feature import RFormula\n",
    "from sklearn.metrics import roc_curve,auc\n",
    "from pyspark.ml.regression import RandomForestRegressor\n",
    "from pyspark.mllib.evaluation import RegressionMetrics\n",
    "\n",
    "## DEFINE REGRESSION FURMULA\n",
    "regFormula = RFormula(formula=\"tip_amount ~ paymentIndex + vendorIndex + rateIndex + TrafficTimeBinsIndex + pickup_hour + passenger_count + trip_time_in_secs + trip_distance + fare_amount\")\n",
    "\n",
    "## DEFINE INDEXER FOR CATEGORIAL VARIABLES\n",
    "featureIndexer = VectorIndexer(inputCol=\"features\", outputCol=\"indexedFeatures\", maxCategories=32)\n",
    "\n",
    "## DEFINE RANDOM FOREST ESTIMATOR\n",
    "randForest = RandomForestRegressor(featuresCol = 'indexedFeatures', labelCol = 'label', numTrees=20, \n",
    "                                   featureSubsetStrategy=\"auto\",impurity='variance', maxDepth=6, maxBins=100)\n",
    "\n",
    "## Fit model, with formula and other transformations\n",
    "model = Pipeline(stages=[regFormula, featureIndexer, randForest]).fit(trainData)\n",
    "\n",
    "## SAVE MODEL\n",
    "datestamp = datetime.datetime.now().strftime('%m-%d-%Y-%s');\n",
    "fileName = \"RandomForestRegressionModel_\" + datestamp;\n",
    "randForestDirfilename = modelDir + fileName;\n",
    "model.save(randForestDirfilename)\n",
    "\n",
    "## PREDICT ON TEST DATA AND EVALUATE\n",
    "predictions = model.transform(testData)\n",
    "predictionAndLabels = predictions.select(\"label\",\"prediction\").rdd\n",
    "#testMetrics = RegressionMetrics(predictionAndLabels)\n",
    "#print(\"RMSE = %s\" % testMetrics.rootMeanSquaredError)\n",
    "#print(\"R-sqr = %s\" % testMetrics.r2)\n",
    "\n",
    "## PLOC ACTUALS VS. PREDICTIONS\n",
    "predictions.select(\"label\",\"prediction\").createOrReplaceTempView(\"tmp_results\");"
   ]
  },
  {
   "cell_type": "code",
   "execution_count": 35,
   "metadata": {
    "cell_status": {
     "execute_time": {
      "duration": 839.570068359375,
      "end_time": 1595687561996.703
     }
    },
    "collapsed": false,
    "deletable": true,
    "editable": true
   },
   "outputs": [],
   "source": [
    "%%sql -q -o predictionsPD\n",
    "SELECT * from tmp_results"
   ]
  },
  {
   "cell_type": "code",
   "execution_count": 36,
   "metadata": {
    "cell_status": {
     "execute_time": {
      "duration": 975.114990234375,
      "end_time": 1595687586991.116
     }
    },
    "collapsed": false,
    "deletable": true,
    "editable": true
   },
   "outputs": [
    {
     "data": {
      "image/png": "[encoded data removed]",
      "text/plain": [
       "<matplotlib.figure.Figure at 0x7f2c480b1910>"
      ]
     },
     "metadata": {},
     "output_type": "display_data"
    }
   ],
   "source": [
    "%%local\n",
    "import numpy as np\n",
    "\n",
    "ax = predictionsPD.plot(kind='scatter', figsize = (5,5), x='label', y='prediction', color='blue', alpha = 0.25, label='Actual vs. predicted');\n",
    "fit = np.polyfit(predictionsPD['label'], predictionsPD['prediction'], deg=1)\n",
    "ax.set_title('Actual vs. Predicted Tip Amounts ($)')\n",
    "ax.set_xlabel(\"Actual\"); ax.set_ylabel(\"Predicted\");\n",
    "ax.plot(predictionsPD['label'], fit[0] * predictionsPD['label'] + fit[1], color='magenta')\n",
    "plt.axis([-1, 15, -1, 15])\n",
    "plt.show(ax)"
   ]
  },
  {
   "cell_type": "markdown",
   "metadata": {
    "deletable": true,
    "editable": true
   },
   "source": [
    "## Hyper-parameter tuning: Train a random forest model using cross-validation"
   ]
  },
  {
   "cell_type": "code",
   "execution_count": 41,
   "metadata": {
    "cell_status": {
     "execute_time": {
      "duration": 491700.0432128906,
      "end_time": 1595688993576.103
     }
    },
    "collapsed": false,
    "deletable": true,
    "editable": true
   },
   "outputs": [
    {
     "name": "stderr",
     "output_type": "stream",
     "text": [
      "An error occurred while calling o2252.evaluate.\n",
      ": org.apache.spark.SparkException: Job aborted due to stage failure: Task 1 in stage 755.0 failed 4 times, most recent failure: Lost task 1.3 in stage 755.0 (TID 9088, wn5-sparkh.uwguulvqr1kevfnztmsfrc5rqc.bx.internal.cloudapp.net, executor 2): org.apache.spark.SparkException: Failed to execute user defined function($anonfun$11: (vector) => vector)\n",
      "\tat org.apache.spark.sql.catalyst.expressions.GeneratedClass$GeneratedIterator.processNext(Unknown Source)\n",
      "\tat org.apache.spark.sql.execution.BufferedRowIterator.hasNext(BufferedRowIterator.java:43)\n",
      "\tat org.apache.spark.sql.execution.WholeStageCodegenExec$$anonfun$8$$anon$1.hasNext(WholeStageCodegenExec.scala:395)\n",
      "\tat scala.collection.Iterator$$anon$11.hasNext(Iterator.scala:408)\n",
      "\tat scala.collection.Iterator$$anon$11.hasNext(Iterator.scala:408)\n",
      "\tat scala.collection.Iterator$$anon$11.hasNext(Iterator.scala:408)\n",
      "\tat scala.collection.Iterator$$anon$11.hasNext(Iterator.scala:408)\n",
      "\tat scala.collection.Iterator$class.foreach(Iterator.scala:893)\n",
      "\tat scala.collection.AbstractIterator.foreach(Iterator.scala:1336)\n",
      "\tat scala.collection.TraversableOnce$class.foldLeft(TraversableOnce.scala:157)\n",
      "\tat scala.collection.AbstractIterator.foldLeft(Iterator.scala:1336)\n",
      "\tat scala.collection.TraversableOnce$class.aggregate(TraversableOnce.scala:214)\n",
      "\tat scala.collection.AbstractIterator.aggregate(Iterator.scala:1336)\n",
      "\tat org.apache.spark.rdd.RDD$$anonfun$aggregate$1$$anonfun$22.apply(RDD.scala:1113)\n",
      "\tat org.apache.spark.rdd.RDD$$anonfun$aggregate$1$$anonfun$22.apply(RDD.scala:1113)\n",
      "\tat org.apache.spark.SparkContext$$anonfun$33.apply(SparkContext.scala:2125)\n",
      "\tat org.apache.spark.SparkContext$$anonfun$33.apply(SparkContext.scala:2125)\n",
      "\tat org.apache.spark.scheduler.ResultTask.runTask(ResultTask.scala:87)\n",
      "\tat org.apache.spark.scheduler.Task.run(Task.scala:108)\n",
      "\tat org.apache.spark.executor.Executor$TaskRunner.run(Executor.scala:338)\n",
      "\tat java.util.concurrent.ThreadPoolExecutor.runWorker(ThreadPoolExecutor.java:1149)\n",
      "\tat java.util.concurrent.ThreadPoolExecutor$Worker.run(ThreadPoolExecutor.java:624)\n",
      "\tat java.lang.Thread.run(Thread.java:748)\n",
      "Caused by: java.util.NoSuchElementException: key not found: 7.0\n",
      "\tat scala.collection.MapLike$class.default(MapLike.scala:228)\n",
      "\tat scala.collection.AbstractMap.default(Map.scala:59)\n",
      "\tat scala.collection.MapLike$class.apply(MapLike.scala:141)\n",
      "\tat scala.collection.AbstractMap.apply(Map.scala:59)\n",
      "\tat org.apache.spark.ml.feature.VectorIndexerModel$$anonfun$10$$anonfun$apply$4.apply(VectorIndexer.scala:325)\n",
      "\tat org.apache.spark.ml.feature.VectorIndexerModel$$anonfun$10$$anonfun$apply$4.apply(VectorIndexer.scala:324)\n",
      "\tat scala.collection.immutable.HashMap$HashMap1.foreach(HashMap.scala:221)\n",
      "\tat scala.collection.immutable.HashMap$HashTrieMap.foreach(HashMap.scala:428)\n",
      "\tat org.apache.spark.ml.feature.VectorIndexerModel$$anonfun$10.apply(VectorIndexer.scala:324)\n",
      "\tat org.apache.spark.ml.feature.VectorIndexerModel$$anonfun$10.apply(VectorIndexer.scala:318)\n",
      "\tat org.apache.spark.ml.feature.VectorIndexerModel$$anonfun$11.apply(VectorIndexer.scala:363)\n",
      "\tat org.apache.spark.ml.feature.VectorIndexerModel$$anonfun$11.apply(VectorIndexer.scala:363)\n",
      "\t... 23 more\n",
      "\n",
      "Driver stacktrace:\n",
      "\tat org.apache.spark.scheduler.DAGScheduler.org$apache$spark$scheduler$DAGScheduler$$failJobAndIndependentStages(DAGScheduler.scala:1517)\n",
      "\tat org.apache.spark.scheduler.DAGScheduler$$anonfun$abortStage$1.apply(DAGScheduler.scala:1505)\n",
      "\tat org.apache.spark.scheduler.DAGScheduler$$anonfun$abortStage$1.apply(DAGScheduler.scala:1504)\n",
      "\tat scala.collection.mutable.ResizableArray$class.foreach(ResizableArray.scala:59)\n",
      "\tat scala.collection.mutable.ArrayBuffer.foreach(ArrayBuffer.scala:48)\n",
      "\tat org.apache.spark.scheduler.DAGScheduler.abortStage(DAGScheduler.scala:1504)\n",
      "\tat org.apache.spark.scheduler.DAGScheduler$$anonfun$handleTaskSetFailed$1.apply(DAGScheduler.scala:814)\n",
      "\tat org.apache.spark.scheduler.DAGScheduler$$anonfun$handleTaskSetFailed$1.apply(DAGScheduler.scala:814)\n",
      "\tat scala.Option.foreach(Option.scala:257)\n",
      "\tat org.apache.spark.scheduler.DAGScheduler.handleTaskSetFailed(DAGScheduler.scala:814)\n",
      "\tat org.apache.spark.scheduler.DAGSchedulerEventProcessLoop.doOnReceive(DAGScheduler.scala:1732)\n",
      "\tat org.apache.spark.scheduler.DAGSchedulerEventProcessLoop.onReceive(DAGScheduler.scala:1687)\n",
      "\tat org.apache.spark.scheduler.DAGSchedulerEventProcessLoop.onReceive(DAGScheduler.scala:1676)\n",
      "\tat org.apache.spark.util.EventLoop$$anon$1.run(EventLoop.scala:48)\n",
      "\tat org.apache.spark.scheduler.DAGScheduler.runJob(DAGScheduler.scala:630)\n",
      "\tat org.apache.spark.SparkContext.runJob(SparkContext.scala:2029)\n",
      "\tat org.apache.spark.SparkContext.runJob(SparkContext.scala:2126)\n",
      "\tat org.apache.spark.rdd.RDD$$anonfun$aggregate$1.apply(RDD.scala:1115)\n",
      "\tat org.apache.spark.rdd.RDDOperationScope$.withScope(RDDOperationScope.scala:151)\n",
      "\tat org.apache.spark.rdd.RDDOperationScope$.withScope(RDDOperationScope.scala:112)\n",
      "\tat org.apache.spark.rdd.RDD.withScope(RDD.scala:362)\n",
      "\tat org.apache.spark.rdd.RDD.aggregate(RDD.scala:1108)\n",
      "\tat org.apache.spark.mllib.evaluation.RegressionMetrics.summary$lzycompute(RegressionMetrics.scala:57)\n",
      "\tat org.apache.spark.mllib.evaluation.RegressionMetrics.summary(RegressionMetrics.scala:54)\n",
      "\tat org.apache.spark.mllib.evaluation.RegressionMetrics.SSerr$lzycompute(RegressionMetrics.scala:65)\n",
      "\tat org.apache.spark.mllib.evaluation.RegressionMetrics.SSerr(RegressionMetrics.scala:65)\n",
      "\tat org.apache.spark.mllib.evaluation.RegressionMetrics.meanSquaredError(RegressionMetrics.scala:100)\n",
      "\tat org.apache.spark.mllib.evaluation.RegressionMetrics.rootMeanSquaredError(RegressionMetrics.scala:109)\n",
      "\tat org.apache.spark.ml.evaluation.RegressionEvaluator.evaluate(RegressionEvaluator.scala:86)\n",
      "\tat sun.reflect.NativeMethodAccessorImpl.invoke0(Native Method)\n",
      "\tat sun.reflect.NativeMethodAccessorImpl.invoke(NativeMethodAccessorImpl.java:62)\n",
      "\tat sun.reflect.DelegatingMethodAccessorImpl.invoke(DelegatingMethodAccessorImpl.java:43)\n",
      "\tat java.lang.reflect.Method.invoke(Method.java:498)\n",
      "\tat py4j.reflection.MethodInvoker.invoke(MethodInvoker.java:244)\n",
      "\tat py4j.reflection.ReflectionEngine.invoke(ReflectionEngine.java:357)\n",
      "\tat py4j.Gateway.invoke(Gateway.java:280)\n",
      "\tat py4j.commands.AbstractCommand.invokeMethod(AbstractCommand.java:132)\n",
      "\tat py4j.commands.CallCommand.execute(CallCommand.java:79)\n",
      "\tat py4j.GatewayConnection.run(GatewayConnection.java:214)\n",
      "\tat java.lang.Thread.run(Thread.java:748)\n",
      "Caused by: org.apache.spark.SparkException: Failed to execute user defined function($anonfun$11: (vector) => vector)\n",
      "\tat org.apache.spark.sql.catalyst.expressions.GeneratedClass$GeneratedIterator.processNext(Unknown Source)\n",
      "\tat org.apache.spark.sql.execution.BufferedRowIterator.hasNext(BufferedRowIterator.java:43)\n",
      "\tat org.apache.spark.sql.execution.WholeStageCodegenExec$$anonfun$8$$anon$1.hasNext(WholeStageCodegenExec.scala:395)\n",
      "\tat scala.collection.Iterator$$anon$11.hasNext(Iterator.scala:408)\n",
      "\tat scala.collection.Iterator$$anon$11.hasNext(Iterator.scala:408)\n",
      "\tat scala.collection.Iterator$$anon$11.hasNext(Iterator.scala:408)\n",
      "\tat scala.collection.Iterator$$anon$11.hasNext(Iterator.scala:408)\n",
      "\tat scala.collection.Iterator$class.foreach(Iterator.scala:893)\n",
      "\tat scala.collection.AbstractIterator.foreach(Iterator.scala:1336)\n",
      "\tat scala.collection.TraversableOnce$class.foldLeft(TraversableOnce.scala:157)\n",
      "\tat scala.collection.AbstractIterator.foldLeft(Iterator.scala:1336)\n",
      "\tat scala.collection.TraversableOnce$class.aggregate(TraversableOnce.scala:214)\n",
      "\tat scala.collection.AbstractIterator.aggregate(Iterator.scala:1336)\n",
      "\tat org.apache.spark.rdd.RDD$$anonfun$aggregate$1$$anonfun$22.apply(RDD.scala:1113)\n",
      "\tat org.apache.spark.rdd.RDD$$anonfun$aggregate$1$$anonfun$22.apply(RDD.scala:1113)\n",
      "\tat org.apache.spark.SparkContext$$anonfun$33.apply(SparkContext.scala:2125)\n",
      "\tat org.apache.spark.SparkContext$$anonfun$33.apply(SparkContext.scala:2125)\n",
      "\tat org.apache.spark.scheduler.ResultTask.runTask(ResultTask.scala:87)\n",
      "\tat org.apache.spark.scheduler.Task.run(Task.scala:108)\n",
      "\tat org.apache.spark.executor.Executor$TaskRunner.run(Executor.scala:338)\n",
      "\tat java.util.concurrent.ThreadPoolExecutor.runWorker(ThreadPoolExecutor.java:1149)\n",
      "\tat java.util.concurrent.ThreadPoolExecutor$Worker.run(ThreadPoolExecutor.java:624)\n",
      "\t... 1 more\n",
      "Caused by: java.util.NoSuchElementException: key not found: 7.0\n",
      "\tat scala.collection.MapLike$class.default(MapLike.scala:228)\n",
      "\tat scala.collection.AbstractMap.default(Map.scala:59)\n",
      "\tat scala.collection.MapLike$class.apply(MapLike.scala:141)\n",
      "\tat scala.collection.AbstractMap.apply(Map.scala:59)\n",
      "\tat org.apache.spark.ml.feature.VectorIndexerModel$$anonfun$10$$anonfun$apply$4.apply(VectorIndexer.scala:325)\n",
      "\tat org.apache.spark.ml.feature.VectorIndexerModel$$anonfun$10$$anonfun$apply$4.apply(VectorIndexer.scala:324)\n",
      "\tat scala.collection.immutable.HashMap$HashMap1.foreach(HashMap.scala:221)\n",
      "\tat scala.collection.immutable.HashMap$HashTrieMap.foreach(HashMap.scala:428)\n",
      "\tat org.apache.spark.ml.feature.VectorIndexerModel$$anonfun$10.apply(VectorIndexer.scala:324)\n",
      "\tat org.apache.spark.ml.feature.VectorIndexerModel$$anonfun$10.apply(VectorIndexer.scala:318)\n",
      "\tat org.apache.spark.ml.feature.VectorIndexerModel$$anonfun$11.apply(VectorIndexer.scala:363)\n",
      "\tat org.apache.spark.ml.feature.VectorIndexerModel$$anonfun$11.apply(VectorIndexer.scala:363)\n",
      "\t... 23 more\n",
      "\n",
      "Traceback (most recent call last):\n",
      "  File \"/usr/hdp/current/spark2-client/python/pyspark/ml/base.py\", line 64, in fit\n",
      "    return self._fit(dataset)\n",
      "  File \"/usr/hdp/current/spark2-client/python/pyspark/ml/tuning.py\", line 236, in _fit\n",
      "    metric = eva.evaluate(model.transform(validation, epm[j]))\n",
      "  File \"/usr/hdp/current/spark2-client/python/pyspark/ml/evaluation.py\", line 69, in evaluate\n",
      "    return self._evaluate(dataset)\n",
      "  File \"/usr/hdp/current/spark2-client/python/pyspark/ml/evaluation.py\", line 99, in _evaluate\n",
      "    return self._java_obj.evaluate(dataset._jdf)\n",
      "  File \"/usr/hdp/current/spark2-client/python/lib/py4j-0.10.4-src.zip/py4j/java_gateway.py\", line 1133, in __call__\n",
      "    answer, self.gateway_client, self.target_id, self.name)\n",
      "  File \"/usr/hdp/current/spark2-client/python/pyspark/sql/utils.py\", line 63, in deco\n",
      "    return f(*a, **kw)\n",
      "  File \"/usr/hdp/current/spark2-client/python/lib/py4j-0.10.4-src.zip/py4j/protocol.py\", line 319, in get_return_value\n",
      "    format(target_id, \".\", name), value)\n",
      "py4j.protocol.Py4JJavaError: An error occurred while calling o2252.evaluate.\n",
      ": org.apache.spark.SparkException: Job aborted due to stage failure: Task 1 in stage 755.0 failed 4 times, most recent failure: Lost task 1.3 in stage 755.0 (TID 9088, wn5-sparkh.uwguulvqr1kevfnztmsfrc5rqc.bx.internal.cloudapp.net, executor 2): org.apache.spark.SparkException: Failed to execute user defined function($anonfun$11: (vector) => vector)\n",
      "\tat org.apache.spark.sql.catalyst.expressions.GeneratedClass$GeneratedIterator.processNext(Unknown Source)\n",
      "\tat org.apache.spark.sql.execution.BufferedRowIterator.hasNext(BufferedRowIterator.java:43)\n",
      "\tat org.apache.spark.sql.execution.WholeStageCodegenExec$$anonfun$8$$anon$1.hasNext(WholeStageCodegenExec.scala:395)\n",
      "\tat scala.collection.Iterator$$anon$11.hasNext(Iterator.scala:408)\n",
      "\tat scala.collection.Iterator$$anon$11.hasNext(Iterator.scala:408)\n",
      "\tat scala.collection.Iterator$$anon$11.hasNext(Iterator.scala:408)\n",
      "\tat scala.collection.Iterator$$anon$11.hasNext(Iterator.scala:408)\n",
      "\tat scala.collection.Iterator$class.foreach(Iterator.scala:893)\n",
      "\tat scala.collection.AbstractIterator.foreach(Iterator.scala:1336)\n",
      "\tat scala.collection.TraversableOnce$class.foldLeft(TraversableOnce.scala:157)\n",
      "\tat scala.collection.AbstractIterator.foldLeft(Iterator.scala:1336)\n",
      "\tat scala.collection.TraversableOnce$class.aggregate(TraversableOnce.scala:214)\n",
      "\tat scala.collection.AbstractIterator.aggregate(Iterator.scala:1336)\n",
      "\tat org.apache.spark.rdd.RDD$$anonfun$aggregate$1$$anonfun$22.apply(RDD.scala:1113)\n",
      "\tat org.apache.spark.rdd.RDD$$anonfun$aggregate$1$$anonfun$22.apply(RDD.scala:1113)\n",
      "\tat org.apache.spark.SparkContext$$anonfun$33.apply(SparkContext.scala:2125)\n",
      "\tat org.apache.spark.SparkContext$$anonfun$33.apply(SparkContext.scala:2125)\n",
      "\tat org.apache.spark.scheduler.ResultTask.runTask(ResultTask.scala:87)\n",
      "\tat org.apache.spark.scheduler.Task.run(Task.scala:108)\n",
      "\tat org.apache.spark.executor.Executor$TaskRunner.run(Executor.scala:338)\n",
      "\tat java.util.concurrent.ThreadPoolExecutor.runWorker(ThreadPoolExecutor.java:1149)\n",
      "\tat java.util.concurrent.ThreadPoolExecutor$Worker.run(ThreadPoolExecutor.java:624)\n",
      "\tat java.lang.Thread.run(Thread.java:748)\n",
      "Caused by: java.util.NoSuchElementException: key not found: 7.0\n",
      "\tat scala.collection.MapLike$class.default(MapLike.scala:228)\n",
      "\tat scala.collection.AbstractMap.default(Map.scala:59)\n",
      "\tat scala.collection.MapLike$class.apply(MapLike.scala:141)\n",
      "\tat scala.collection.AbstractMap.apply(Map.scala:59)\n",
      "\tat org.apache.spark.ml.feature.VectorIndexerModel$$anonfun$10$$anonfun$apply$4.apply(VectorIndexer.scala:325)\n",
      "\tat org.apache.spark.ml.feature.VectorIndexerModel$$anonfun$10$$anonfun$apply$4.apply(VectorIndexer.scala:324)\n",
      "\tat scala.collection.immutable.HashMap$HashMap1.foreach(HashMap.scala:221)\n",
      "\tat scala.collection.immutable.HashMap$HashTrieMap.foreach(HashMap.scala:428)\n",
      "\tat org.apache.spark.ml.feature.VectorIndexerModel$$anonfun$10.apply(VectorIndexer.scala:324)\n",
      "\tat org.apache.spark.ml.feature.VectorIndexerModel$$anonfun$10.apply(VectorIndexer.scala:318)\n",
      "\tat org.apache.spark.ml.feature.VectorIndexerModel$$anonfun$11.apply(VectorIndexer.scala:363)\n",
      "\tat org.apache.spark.ml.feature.VectorIndexerModel$$anonfun$11.apply(VectorIndexer.scala:363)\n",
      "\t... 23 more\n",
      "\n",
      "Driver stacktrace:\n",
      "\tat org.apache.spark.scheduler.DAGScheduler.org$apache$spark$scheduler$DAGScheduler$$failJobAndIndependentStages(DAGScheduler.scala:1517)\n",
      "\tat org.apache.spark.scheduler.DAGScheduler$$anonfun$abortStage$1.apply(DAGScheduler.scala:1505)\n",
      "\tat org.apache.spark.scheduler.DAGScheduler$$anonfun$abortStage$1.apply(DAGScheduler.scala:1504)\n",
      "\tat scala.collection.mutable.ResizableArray$class.foreach(ResizableArray.scala:59)\n",
      "\tat scala.collection.mutable.ArrayBuffer.foreach(ArrayBuffer.scala:48)\n",
      "\tat org.apache.spark.scheduler.DAGScheduler.abortStage(DAGScheduler.scala:1504)\n",
      "\tat org.apache.spark.scheduler.DAGScheduler$$anonfun$handleTaskSetFailed$1.apply(DAGScheduler.scala:814)\n",
      "\tat org.apache.spark.scheduler.DAGScheduler$$anonfun$handleTaskSetFailed$1.apply(DAGScheduler.scala:814)\n",
      "\tat scala.Option.foreach(Option.scala:257)\n",
      "\tat org.apache.spark.scheduler.DAGScheduler.handleTaskSetFailed(DAGScheduler.scala:814)\n",
      "\tat org.apache.spark.scheduler.DAGSchedulerEventProcessLoop.doOnReceive(DAGScheduler.scala:1732)\n",
      "\tat org.apache.spark.scheduler.DAGSchedulerEventProcessLoop.onReceive(DAGScheduler.scala:1687)\n",
      "\tat org.apache.spark.scheduler.DAGSchedulerEventProcessLoop.onReceive(DAGScheduler.scala:1676)\n",
      "\tat org.apache.spark.util.EventLoop$$anon$1.run(EventLoop.scala:48)\n",
      "\tat org.apache.spark.scheduler.DAGScheduler.runJob(DAGScheduler.scala:630)\n",
      "\tat org.apache.spark.SparkContext.runJob(SparkContext.scala:2029)\n",
      "\tat org.apache.spark.SparkContext.runJob(SparkContext.scala:2126)\n",
      "\tat org.apache.spark.rdd.RDD$$anonfun$aggregate$1.apply(RDD.scala:1115)\n",
      "\tat org.apache.spark.rdd.RDDOperationScope$.withScope(RDDOperationScope.scala:151)\n",
      "\tat org.apache.spark.rdd.RDDOperationScope$.withScope(RDDOperationScope.scala:112)\n",
      "\tat org.apache.spark.rdd.RDD.withScope(RDD.scala:362)\n",
      "\tat org.apache.spark.rdd.RDD.aggregate(RDD.scala:1108)\n",
      "\tat org.apache.spark.mllib.evaluation.RegressionMetrics.summary$lzycompute(RegressionMetrics.scala:57)\n",
      "\tat org.apache.spark.mllib.evaluation.RegressionMetrics.summary(RegressionMetrics.scala:54)\n",
      "\tat org.apache.spark.mllib.evaluation.RegressionMetrics.SSerr$lzycompute(RegressionMetrics.scala:65)\n",
      "\tat org.apache.spark.mllib.evaluation.RegressionMetrics.SSerr(RegressionMetrics.scala:65)\n",
      "\tat org.apache.spark.mllib.evaluation.RegressionMetrics.meanSquaredError(RegressionMetrics.scala:100)\n",
      "\tat org.apache.spark.mllib.evaluation.RegressionMetrics.rootMeanSquaredError(RegressionMetrics.scala:109)\n",
      "\tat org.apache.spark.ml.evaluation.RegressionEvaluator.evaluate(RegressionEvaluator.scala:86)\n",
      "\tat sun.reflect.NativeMethodAccessorImpl.invoke0(Native Method)\n",
      "\tat sun.reflect.NativeMethodAccessorImpl.invoke(NativeMethodAccessorImpl.java:62)\n",
      "\tat sun.reflect.DelegatingMethodAccessorImpl.invoke(DelegatingMethodAccessorImpl.java:43)\n",
      "\tat java.lang.reflect.Method.invoke(Method.java:498)\n",
      "\tat py4j.reflection.MethodInvoker.invoke(MethodInvoker.java:244)\n",
      "\tat py4j.reflection.ReflectionEngine.invoke(ReflectionEngine.java:357)\n",
      "\tat py4j.Gateway.invoke(Gateway.java:280)\n",
      "\tat py4j.commands.AbstractCommand.invokeMethod(AbstractCommand.java:132)\n",
      "\tat py4j.commands.CallCommand.execute(CallCommand.java:79)\n",
      "\tat py4j.GatewayConnection.run(GatewayConnection.java:214)\n",
      "\tat java.lang.Thread.run(Thread.java:748)\n",
      "Caused by: org.apache.spark.SparkException: Failed to execute user defined function($anonfun$11: (vector) => vector)\n",
      "\tat org.apache.spark.sql.catalyst.expressions.GeneratedClass$GeneratedIterator.processNext(Unknown Source)\n",
      "\tat org.apache.spark.sql.execution.BufferedRowIterator.hasNext(BufferedRowIterator.java:43)\n",
      "\tat org.apache.spark.sql.execution.WholeStageCodegenExec$$anonfun$8$$anon$1.hasNext(WholeStageCodegenExec.scala:395)\n",
      "\tat scala.collection.Iterator$$anon$11.hasNext(Iterator.scala:408)\n",
      "\tat scala.collection.Iterator$$anon$11.hasNext(Iterator.scala:408)\n",
      "\tat scala.collection.Iterator$$anon$11.hasNext(Iterator.scala:408)\n",
      "\tat scala.collection.Iterator$$anon$11.hasNext(Iterator.scala:408)\n",
      "\tat scala.collection.Iterator$class.foreach(Iterator.scala:893)\n",
      "\tat scala.collection.AbstractIterator.foreach(Iterator.scala:1336)\n",
      "\tat scala.collection.TraversableOnce$class.foldLeft(TraversableOnce.scala:157)\n",
      "\tat scala.collection.AbstractIterator.foldLeft(Iterator.scala:1336)\n",
      "\tat scala.collection.TraversableOnce$class.aggregate(TraversableOnce.scala:214)\n",
      "\tat scala.collection.AbstractIterator.aggregate(Iterator.scala:1336)\n",
      "\tat org.apache.spark.rdd.RDD$$anonfun$aggregate$1$$anonfun$22.apply(RDD.scala:1113)\n",
      "\tat org.apache.spark.rdd.RDD$$anonfun$aggregate$1$$anonfun$22.apply(RDD.scala:1113)\n",
      "\tat org.apache.spark.SparkContext$$anonfun$33.apply(SparkContext.scala:2125)\n",
      "\tat org.apache.spark.SparkContext$$anonfun$33.apply(SparkContext.scala:2125)\n",
      "\tat org.apache.spark.scheduler.ResultTask.runTask(ResultTask.scala:87)\n",
      "\tat org.apache.spark.scheduler.Task.run(Task.scala:108)\n",
      "\tat org.apache.spark.executor.Executor$TaskRunner.run(Executor.scala:338)\n",
      "\tat java.util.concurrent.ThreadPoolExecutor.runWorker(ThreadPoolExecutor.java:1149)\n",
      "\tat java.util.concurrent.ThreadPoolExecutor$Worker.run(ThreadPoolExecutor.java:624)\n",
      "\t... 1 more\n",
      "Caused by: java.util.NoSuchElementException: key not found: 7.0\n",
      "\tat scala.collection.MapLike$class.default(MapLike.scala:228)\n",
      "\tat scala.collection.AbstractMap.default(Map.scala:59)\n",
      "\tat scala.collection.MapLike$class.apply(MapLike.scala:141)\n",
      "\tat scala.collection.AbstractMap.apply(Map.scala:59)\n",
      "\tat org.apache.spark.ml.feature.VectorIndexerModel$$anonfun$10$$anonfun$apply$4.apply(VectorIndexer.scala:325)\n",
      "\tat org.apache.spark.ml.feature.VectorIndexerModel$$anonfun$10$$anonfun$apply$4.apply(VectorIndexer.scala:324)\n",
      "\tat scala.collection.immutable.HashMap$HashMap1.foreach(HashMap.scala:221)\n",
      "\tat scala.collection.immutable.HashMap$HashTrieMap.foreach(HashMap.scala:428)\n",
      "\tat org.apache.spark.ml.feature.VectorIndexerModel$$anonfun$10.apply(VectorIndexer.scala:324)\n",
      "\tat org.apache.spark.ml.feature.VectorIndexerModel$$anonfun$10.apply(VectorIndexer.scala:318)\n",
      "\tat org.apache.spark.ml.feature.VectorIndexerModel$$anonfun$11.apply(VectorIndexer.scala:363)\n",
      "\tat org.apache.spark.ml.feature.VectorIndexerModel$$anonfun$11.apply(VectorIndexer.scala:363)\n",
      "\t... 23 more\n",
      "\n",
      "\n"
     ]
    }
   ],
   "source": [
    "from pyspark.ml.tuning import CrossValidator, ParamGridBuilder\n",
    "from pyspark.ml.evaluation import RegressionEvaluator\n",
    "\n",
    "## DEFINE RANDOM FOREST MODELS\n",
    "randForest = RandomForestRegressor(featuresCol = 'indexedFeatures', labelCol = 'label', \n",
    "                                   featureSubsetStrategy=\"auto\",impurity='variance', maxBins=100)\n",
    "\n",
    "## DEFINE MODELING PIPELINE, INCLUDING FORMULA, FEATURE TRANSFORMATIONS, AND ESTIMATOR\n",
    "pipeline = Pipeline(stages=[regFormula, featureIndexer, randForest])\n",
    "\n",
    "## DEFINE PARAMETER GRID FOR RANDOM FOREST\n",
    "paramGrid = ParamGridBuilder() \\\n",
    "    .addGrid(randForest.numTrees, [10, 25, 50]) \\\n",
    "    .addGrid(randForest.maxDepth, [3, 5, 7]) \\\n",
    "    .build()\n",
    "\n",
    "## DEFINE CROSS VALIDATION\n",
    "crossval = CrossValidator(estimator=pipeline,\n",
    "                          estimatorParamMaps=paramGrid,\n",
    "                          evaluator=RegressionEvaluator(metricName=\"rmse\"),\n",
    "                          numFolds=3)\n",
    "\n",
    "## TRAIN MODEL USING CV\n",
    "cvModel = crossval.fit(trainData)\n",
    "\n",
    "## PREDICT AND EVALUATE TEST DATA SET\n",
    "predictions = cvModel.transform(testData)\n",
    "#evaluator = RegressionEvaluator(labelCol=\"label\", predictionCol=\"prediction\", metricName=\"r2\")\n",
    "#r2 = evaluator.evaluate(predictions)\n",
    "#print(\"R-squared on test data = %g\" % r2)\n",
    "\n",
    "## SAVE THE BEST MODEL\n",
    "datestamp = datetime.datetime.now().strftime('%m-%d-%Y-%s');\n",
    "fileName = \"CV_RandomForestRegressionModel_\" + datestamp;\n",
    "CVDirfilename = modelDir + fileName;\n",
    "cvModel.bestModel.save(CVDirfilename);"
   ]
  },
  {
   "cell_type": "markdown",
   "metadata": {
    "deletable": true,
    "editable": true
   },
   "source": [
    "## Load a saved pipeline model and evaluate it on test data set"
   ]
  },
  {
   "cell_type": "code",
   "execution_count": 38,
   "metadata": {
    "cell_status": {
     "execute_time": {
      "duration": 296497.56591796875,
      "end_time": 1595688386117.209
     }
    },
    "collapsed": true,
    "deletable": true,
    "editable": true
   },
   "outputs": [],
   "source": [
    "# SAMPLE 10% OF DATA, SPLIT INTO TRAIINING AND VALIDATION AND SAVE IN BLOB\n",
    "trip_fare_testSampled = trip_fareDF.sample(False, 0.1, seed=5678)\n",
    "testfilename = dataDir + \"TestData\";\n",
    "trip_fare_testSampled.repartition(10).write.mode(\"overwrite\").parquet(testfilename)"
   ]
  },
  {
   "cell_type": "code",
   "execution_count": 39,
   "metadata": {
    "cell_status": {
     "execute_time": {
      "duration": 5432.0859375,
      "end_time": 1595688391564.168
     }
    },
    "collapsed": false,
    "deletable": true,
    "editable": true
   },
   "outputs": [],
   "source": [
    "from pyspark.ml import PipelineModel\n",
    "\n",
    "savedModel = PipelineModel.load(randForestDirfilename)\n",
    "\n",
    "predictions = savedModel.transform(testData)\n",
    "predictionAndLabels = predictions.select(\"label\",\"prediction\").rdd\n",
    "#testMetrics = RegressionMetrics(predictionAndLabels)\n",
    "#print(\"RMSE = %s\" % testMetrics.rootMeanSquaredError)\n",
    "#print(\"R-sqr = %s\" % testMetrics.r2)"
   ]
  },
  {
   "cell_type": "markdown",
   "metadata": {
    "deletable": true,
    "editable": true
   },
   "source": [
    "## Load and transform an independent validation data-set, and evaluate the saved pipeline model"
   ]
  },
  {
   "cell_type": "markdown",
   "metadata": {
    "deletable": true,
    "editable": true
   },
   "source": [
    "### Note that this validation data, by design, has a different format than the original trainig data. By grangling and transformations, we make the data format the same as the training data for the purpose of scoring."
   ]
  },
  {
   "cell_type": "code",
   "execution_count": 42,
   "metadata": {
    "cell_status": {
     "execute_time": {
      "duration": 239.969970703125,
      "end_time": 1595689027169.405
     }
    },
    "collapsed": false,
    "deletable": true,
    "editable": true
   },
   "outputs": [
    {
     "name": "stdout",
     "output_type": "stream",
     "text": [
      "root\n",
      " |-- medallion: string (nullable = true)\n",
      " |-- hack_license: string (nullable = true)\n",
      " |-- total_amount: double (nullable = true)\n",
      " |-- tolls_amount: double (nullable = true)\n",
      " |-- pickup_hour: integer (nullable = true)\n",
      " |-- vendor_id: string (nullable = true)\n",
      " |-- fare_amount: double (nullable = true)\n",
      " |-- surcharge: double (nullable = true)\n",
      " |-- tip_amount: double (nullable = true)\n",
      " |-- payment_type: string (nullable = true)\n",
      " |-- rate_code: string (nullable = true)\n",
      " |-- passenger_count: integer (nullable = true)\n",
      " |-- trip_distance: double (nullable = true)\n",
      " |-- trip_time_in_secs: double (nullable = true)"
     ]
    }
   ],
   "source": [
    "## READ IN DATA FRAME FROM CSV\n",
    "taxi_valid_df = spark.read.parquet(testfilename)\n",
    "taxi_valid_df.printSchema()"
   ]
  },
  {
   "cell_type": "code",
   "execution_count": 43,
   "metadata": {
    "cell_status": {
     "execute_time": {
      "duration": 5279.946044921875,
      "end_time": 1595689053180.821
     }
    },
    "collapsed": false,
    "deletable": true,
    "editable": true
   },
   "outputs": [],
   "source": [
    "## CREATE A CLEANED DATA-FRAME BY DROPPING SOME UN-NECESSARY COLUMNS & FILTERING FOR UNDESIRED VALUES OR OUTLIERS\n",
    "taxi_df_valid_cleaned = taxi_valid_df.drop('medallion').drop('hack_license').drop('store_and_fwd_flag').drop('pickup_datetime')\\\n",
    "    .drop('dropoff_datetime').drop('pickup_longitude').drop('pickup_latitude').drop('dropoff_latitude')\\\n",
    "    .drop('dropoff_longitude').drop('tip_class').drop('total_amount').drop('tolls_amount').drop('mta_tax')\\\n",
    "    .drop('direct_distance').drop('surcharge')\\\n",
    "    .filter(\"passenger_count > 0 and passenger_count < 8 AND payment_type in ('CSH', 'CRD') \\\n",
    "    AND tip_amount >= 0 AND tip_amount < 30 AND fare_amount >= 1 AND fare_amount < 150 AND trip_distance > 0 \\\n",
    "    AND trip_distance < 100 AND trip_time_in_secs > 30 AND trip_time_in_secs < 7200\" )\n",
    "\n",
    "## REGISTER DATA-FRAME AS A TEMP-TABLE IN SQL-CONTEXT\n",
    "taxi_df_valid_cleaned.createOrReplaceTempView(\"taxi_valid\")\n",
    "\n",
    "### CREATE FOUR BUCKETS FOR TRAFFIC TIMES\n",
    "sqlStatement = \"\"\" SELECT *, CASE\n",
    "     WHEN (pickup_hour <= 6 OR pickup_hour >= 20) THEN \"Night\" \n",
    "     WHEN (pickup_hour >= 7 AND pickup_hour <= 10) THEN \"AMRush\" \n",
    "     WHEN (pickup_hour >= 11 AND pickup_hour <= 15) THEN \"Afternoon\"\n",
    "     WHEN (pickup_hour >= 16 AND pickup_hour <= 19) THEN \"PMRush\"\n",
    "    END as TrafficTimeBins\n",
    "    FROM taxi_valid\n",
    "\"\"\"\n",
    "taxi_df_valid_with_newFeatures = spark.sql(sqlStatement)\n",
    "\n",
    "## APPLY THE SAME TRANSFORATION ON THIS DATA AS ORIGINAL TRAINING DATA\n",
    "encodedFinalValid = Pipeline(stages=[sI1, sI2, sI3, sI4]).fit(taxi_df_train_with_newFeatures).transform(taxi_df_valid_with_newFeatures)"
   ]
  },
  {
   "cell_type": "code",
   "execution_count": 44,
   "metadata": {
    "cell_status": {
     "execute_time": {
      "duration": 5341.446044921875,
      "end_time": 1595689135275.05
     }
    },
    "collapsed": false,
    "deletable": true,
    "editable": true
   },
   "outputs": [
    {
     "name": "stderr",
     "output_type": "stream",
     "text": [
      "Exception in thread Thread-363:\n",
      "Traceback (most recent call last):\n",
      "  File \"/usr/bin/anaconda/lib/python2.7/threading.py\", line 801, in __bootstrap_inner\n",
      "    self.run()\n",
      "  File \"/usr/bin/anaconda/lib/python2.7/threading.py\", line 754, in run\n",
      "    self.__target(*self.__args, **self.__kwargs)\n",
      "  File \"/usr/bin/anaconda/lib/python2.7/site-packages/sparkprogressindicator/sparkmonitorbackend.py\", line 196, in _check_jobs\n",
      "    self._send_msgs_for_fast_job(next_job)\n",
      "  File \"/usr/bin/anaconda/lib/python2.7/site-packages/sparkprogressindicator/sparkmonitorbackend.py\", line 290, in _send_msgs_for_fast_job\n",
      "    self._send_job_start(job)\n",
      "  File \"/usr/bin/anaconda/lib/python2.7/site-packages/sparkprogressindicator/sparkmonitorbackend.py\", line 375, in _send_job_start\n",
      "    stage = stage_dict[stageId]\n",
      "KeyError: 794\n",
      "\n"
     ]
    }
   ],
   "source": [
    "## LOAD SAVED MODEL, SCORE VALIDATION DATA, AND EVALUATE\n",
    "savedModel = PipelineModel.load(randForestDirfilename)\n",
    "predictions = savedModel.transform(encodedFinalValid)\n",
    "#r2 = evaluator.evaluate(predictions)\n",
    "#print(\"R-squared on validation data = %g\" % r2)"
   ]
  },
  {
   "cell_type": "markdown",
   "metadata": {
    "deletable": true,
    "editable": true
   },
   "source": [
    "#### Save predictions to a file in HDFS"
   ]
  },
  {
   "cell_type": "code",
   "execution_count": 45,
   "metadata": {
    "cell_status": {
     "execute_time": {
      "duration": 21343.2900390625,
      "end_time": 1595689175922.755
     }
    },
    "collapsed": false,
    "deletable": true,
    "editable": true
   },
   "outputs": [],
   "source": [
    "datestamp = datetime.datetime.now().strftime('%m-%d-%Y-%s');\n",
    "fileName = \"Predictions_CV_\" + datestamp;\n",
    "predictionfile = dataDir + fileName;\n",
    "predictions.select(\"label\",\"prediction\").write.mode(\"overwrite\").csv(predictionfile)"
   ]
  },
  {
   "cell_type": "code",
   "execution_count": null,
   "metadata": {
    "collapsed": true,
    "deletable": true,
    "editable": true
   },
   "outputs": [],
   "source": []
  }
 ],
 "metadata": {
  "anaconda-cloud": {},
  "celltoolbar": "Raw Cell Format",
  "kernelspec": {
   "display_name": "PySpark3",
   "language": "",
   "name": "pyspark3kernel"
  },
  "language_info": {
   "codemirror_mode": {
    "name": "python",
    "version": 3
   },
   "mimetype": "text/x-python",
   "name": "pyspark3",
   "pygments_lexer": "python3"
  }
 },
 "nbformat": 4,
 "nbformat_minor": 0
}