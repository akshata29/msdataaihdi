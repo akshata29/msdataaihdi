{
 "cells": [
  {
   "cell_type": "code",
   "execution_count": 1,
   "metadata": {
    "cell_status": {
     "execute_time": {
      "duration": 21491.21484375,
      "end_time": 1595685093650.059
     }
    },
    "collapsed": false,
    "deletable": true,
    "editable": true
   },
   "outputs": [
    {
     "name": "stdout",
     "output_type": "stream",
     "text": [
      "Starting Spark application\n"
     ]
    },
    {
     "data": {
      "text/html": [
       "<table>\n",
       "<tr><th>ID</th><th>YARN Application ID</th><th>Kind</th><th>State</th><th>Spark UI</th><th>Driver log</th><th>Current session?</th></tr><tr><td>0</td><td>application_1595680205259_0004</td><td>pyspark</td><td>idle</td><td><a target=\"_blank\" href=\"http://hn0-sparkh.uwguulvqr1kevfnztmsfrc5rqc.bx.internal.cloudapp.net:8088/proxy/application_1595680205259_0004/\">Link</a></td><td><a target=\"_blank\" href=\"http://wn3-sparkh.uwguulvqr1kevfnztmsfrc5rqc.bx.internal.cloudapp.net:30060/node/containerlogs/container_e01_1595680205259_0004_01_000001/livy\">Link</a></td><td>✔</td></tr></table>"
      ],
      "text/plain": [
       "<IPython.core.display.HTML object>"
      ]
     },
     "metadata": {},
     "output_type": "display_data"
    },
    {
     "name": "stdout",
     "output_type": "stream",
     "text": [
      "SparkSession available as 'spark'.\n",
      "/usr/bin/anaconda/lib/python2.7/site-packages/matplotlib/font_manager.py:273: UserWarning: Matplotlib is building the font cache using fc-list. This may take a moment.\n",
      "  warnings.warn('Matplotlib is building the font cache using fc-list. This may take a moment.')"
     ]
    },
    {
     "name": "stderr",
     "output_type": "stream",
     "text": [
      "Widget Javascript not detected.  It may not be installed or enabled properly.\n"
     ]
    },
    {
     "data": {
      "application/vnd.jupyter.widget-view+json": {
       "model_id": "077d22f9fbbc489f8de2ebe946ab002b"
      }
     },
     "metadata": {},
     "output_type": "display_data"
    },
    {
     "name": "stderr",
     "output_type": "stream",
     "text": [
      "Widget Javascript not detected.  It may not be installed or enabled properly.\n"
     ]
    },
    {
     "data": {
      "application/vnd.jupyter.widget-view+json": {
       "model_id": "d78b1718791348908e12650748b16d54"
      }
     },
     "metadata": {},
     "output_type": "display_data"
    }
   ],
   "source": [
    "%%sql\n",
    "create database if not exists nyctaxidb"
   ]
  },
  {
   "cell_type": "code",
   "execution_count": 2,
   "metadata": {
    "cell_status": {
     "execute_time": {
      "duration": 772.14794921875,
      "end_time": 1595685153910.005
     }
    },
    "collapsed": false,
    "deletable": true,
    "editable": true
   },
   "outputs": [
    {
     "data": {
      "application/vnd.jupyter.widget-view+json": {
       "model_id": "a7e2f7ed3c824a1e9ac6d41f160d0c28"
      }
     },
     "metadata": {},
     "output_type": "display_data"
    },
    {
     "data": {
      "application/vnd.jupyter.widget-view+json": {
       "model_id": "117c8fe2c25b4e0196329fed9a043e97"
      }
     },
     "metadata": {},
     "output_type": "display_data"
    }
   ],
   "source": [
    "%%sql\n",
    "\n",
    "drop table if exists nyctaxidb.fare"
   ]
  },
  {
   "cell_type": "code",
   "execution_count": 4,
   "metadata": {
    "cell_status": {
     "execute_time": {
      "duration": 764.18701171875,
      "end_time": 1595685165264.686
     }
    },
    "collapsed": false,
    "deletable": true,
    "editable": true
   },
   "outputs": [
    {
     "data": {
      "application/vnd.jupyter.widget-view+json": {
       "model_id": "8f1e49741f2f4d6f8d7b6121fdc7b5c7"
      }
     },
     "metadata": {},
     "output_type": "display_data"
    },
    {
     "data": {
      "application/vnd.jupyter.widget-view+json": {
       "model_id": "0dfc30732f9f4fe1bfb4a1596bcac0e4"
      }
     },
     "metadata": {},
     "output_type": "display_data"
    }
   ],
   "source": [
    "%%sql\n",
    "\n",
    "drop table if exists nyctaxidb.trip"
   ]
  },
  {
   "cell_type": "code",
   "execution_count": 5,
   "metadata": {
    "cell_status": {
     "execute_time": {
      "duration": 2294.52490234375,
      "end_time": 1595685172665.414
     }
    },
    "collapsed": false,
    "deletable": true,
    "editable": true
   },
   "outputs": [
    {
     "data": {
      "application/vnd.jupyter.widget-view+json": {
       "model_id": "d9806f71b7d24c909cc097e9281b344a"
      }
     },
     "metadata": {},
     "output_type": "display_data"
    },
    {
     "data": {
      "application/vnd.jupyter.widget-view+json": {
       "model_id": "073ffa90684f4ccf8fffd0d6d1715982"
      }
     },
     "metadata": {},
     "output_type": "display_data"
    }
   ],
   "source": [
    "%%sql\n",
    "\n",
    "create external table if not exists nyctaxidb.fare\n",
    "(\n",
    "    medallion string,\n",
    "    hack_license string,\n",
    "    vendor_id string,\n",
    "    pickup_datetime string,\n",
    "    payment_type string,\n",
    "    fare_amount double,\n",
    "    surcharge double,\n",
    "    mta_tax double,\n",
    "    tip_amount double,\n",
    "    tolls_amount double,\n",
    "    total_amount double)\n",
    "PARTITIONED BY (month int)\n",
    "ROW FORMAT DELIMITED FIELDS TERMINATED BY ',' lines terminated by '\\n'\n",
    "STORED AS TEXTFILE \n",
    "--LOCATION 'abfss://nyctaxi@msdataainyctaxi.dfs.core.windows.net/nyctaxiraw/fare/' \n",
    "LOCATION '/nyctaxiraw/fare' \n",
    "TBLPROPERTIES(\"skip.header.line.count\"=\"1\")"
   ]
  },
  {
   "cell_type": "code",
   "execution_count": 6,
   "metadata": {
    "cell_status": {
     "execute_time": {
      "duration": 1273.178955078125,
      "end_time": 1595685176996.384
     }
    },
    "collapsed": false,
    "deletable": true,
    "editable": true
   },
   "outputs": [
    {
     "data": {
      "application/vnd.jupyter.widget-view+json": {
       "model_id": "875b412d5e59412ba0bb2f2263c8b3ba"
      }
     },
     "metadata": {},
     "output_type": "display_data"
    },
    {
     "data": {
      "application/vnd.jupyter.widget-view+json": {
       "model_id": "171405bc028e47c8bd25dedd519be185"
      }
     },
     "metadata": {},
     "output_type": "display_data"
    }
   ],
   "source": [
    "%%sql\n",
    "\n",
    "select * from nyctaxidb.fare"
   ]
  },
  {
   "cell_type": "code",
   "execution_count": 7,
   "metadata": {
    "cell_status": {
     "execute_time": {
      "duration": 1280.141845703125,
      "end_time": 1595685180384.871
     }
    },
    "collapsed": false,
    "deletable": true,
    "editable": true
   },
   "outputs": [
    {
     "data": {
      "application/vnd.jupyter.widget-view+json": {
       "model_id": "3a2102dc806a4a41967a02eb858f4598"
      }
     },
     "metadata": {},
     "output_type": "display_data"
    },
    {
     "data": {
      "application/vnd.jupyter.widget-view+json": {
       "model_id": "37da7cb7fe8c46828f27a888b9df1d45"
      }
     },
     "metadata": {},
     "output_type": "display_data"
    }
   ],
   "source": [
    "%%sql\n",
    "\n",
    "create external table if not exists nyctaxidb.trip\n",
    "(\n",
    "    medallion string,\n",
    "    hack_license string,\n",
    "    vendor_id string,\n",
    "    rate_code string,\n",
    "    store_and_fwd_flag string,\n",
    "    pickup_datetime string,\n",
    "    dropoff_datetime string,\n",
    "    passenger_count int,\n",
    "    trip_time_in_secs double,\n",
    "    trip_distance double,\n",
    "    pickup_longitude double,\n",
    "    pickup_latitude double,\n",
    "    dropoff_longitude double,\n",
    "    dropoff_latitude double)  \n",
    "PARTITIONED BY (month int)\n",
    "ROW FORMAT DELIMITED FIELDS TERMINATED BY ',' lines terminated by '\\n'\n",
    "STORED AS TEXTFILE \n",
    "LOCATION '/nyctaxiraw/trip' \n",
    "TBLPROPERTIES('skip.header.line.count'='1')"
   ]
  },
  {
   "cell_type": "code",
   "execution_count": 8,
   "metadata": {
    "cell_status": {
     "execute_time": {
      "duration": 773.510986328125,
      "end_time": 1595685183297.066
     }
    },
    "collapsed": false,
    "deletable": true,
    "editable": true
   },
   "outputs": [
    {
     "data": {
      "application/vnd.jupyter.widget-view+json": {
       "model_id": "78dc403050e246bcad4b4918ae2a2f41"
      }
     },
     "metadata": {},
     "output_type": "display_data"
    },
    {
     "data": {
      "application/vnd.jupyter.widget-view+json": {
       "model_id": "30f49cfa635c455da8219adb7473a708"
      }
     },
     "metadata": {},
     "output_type": "display_data"
    }
   ],
   "source": [
    "%%sql\n",
    "\n",
    "select * from nyctaxidb.trip"
   ]
  }
 ],
 "metadata": {
  "kernelspec": {
   "display_name": "PySpark",
   "language": "",
   "name": "pysparkkernel"
  },
  "language_info": {
   "codemirror_mode": {
    "name": "python",
    "version": 2
   },
   "mimetype": "text/x-python",
   "name": "pyspark",
   "pygments_lexer": "python2"
  }
 },
 "nbformat": 4,
 "nbformat_minor": 2
}