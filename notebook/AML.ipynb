{
 "cells": [
  {
   "cell_type": "code",
   "execution_count": 11,
   "metadata": {
    "cell_status": {
     "execute_time": {
      "duration": 2454.77685546875,
      "end_time": 1595598718567.719
     }
    },
    "collapsed": false,
    "deletable": true,
    "editable": true
   },
   "outputs": [
    {
     "data": {
      "application/vnd.jupyter.widget-view+json": {
       "model_id": "971474302088447099216c0ef169c0a7"
      }
     },
     "metadata": {},
     "output_type": "display_data"
    },
    {
     "data": {
      "application/vnd.jupyter.widget-view+json": {
       "model_id": "a3b368d902d248ddbff393cc1f41dc28"
      }
     },
     "metadata": {},
     "output_type": "display_data"
    }
   ],
   "source": [
    "%%sql\n",
    "\n",
    "drop table nyctaxidb.nyctaxi_downsampled_dataset "
   ]
  },
  {
   "cell_type": "code",
   "execution_count": 12,
   "metadata": {
    "cell_status": {
     "execute_time": {
      "duration": 1423.242919921875,
      "end_time": 1595598721210.432
     }
    },
    "collapsed": false,
    "deletable": true,
    "editable": true
   },
   "outputs": [
    {
     "data": {
      "application/vnd.jupyter.widget-view+json": {
       "model_id": "a99b051714ad4350815f6c8631223a8e"
      }
     },
     "metadata": {},
     "output_type": "display_data"
    },
    {
     "data": {
      "application/vnd.jupyter.widget-view+json": {
       "model_id": "b911995cf63b49698bbc180fdb9dbc07"
      }
     },
     "metadata": {},
     "output_type": "display_data"
    }
   ],
   "source": [
    "%%sql\n",
    "\n",
    "create table if not exists nyctaxidb.nyctaxi_downsampled_dataset (\n",
    "\n",
    "medallion string,\n",
    "hack_license string,\n",
    "vendor_id string,\n",
    "rate_code string,\n",
    "store_and_fwd_flag string,\n",
    "pickup_datetime string,\n",
    "dropoff_datetime string,\n",
    "pickup_hour string,\n",
    "pickup_week string,\n",
    "weekday string,\n",
    "passenger_count int,\n",
    "trip_time_in_secs double,\n",
    "trip_distance double,\n",
    "pickup_longitude double,\n",
    "pickup_latitude double,\n",
    "dropoff_longitude double,\n",
    "dropoff_latitude double,\n",
    "direct_distance double,\n",
    "payment_type string,\n",
    "fare_amount double,\n",
    "surcharge double,\n",
    "mta_tax double,\n",
    "tip_amount double,\n",
    "tolls_amount double,\n",
    "total_amount double,\n",
    "tipped string,\n",
    "tip_class string\n",
    ")\n",
    "row format delimited fields terminated by ','\n",
    "lines terminated by '\\n'\n",
    "stored as textfile"
   ]
  },
  {
   "cell_type": "code",
   "execution_count": 13,
   "metadata": {
    "cell_status": {
     "execute_time": {
      "duration": 389674.3850097656,
      "end_time": 1595599116214.727
     }
    },
    "collapsed": false,
    "deletable": true,
    "editable": true
   },
   "outputs": [
    {
     "data": {
      "application/vnd.jupyter.widget-view+json": {
       "model_id": "360aa73baec2467aa6a62b997262fc39"
      }
     },
     "metadata": {},
     "output_type": "display_data"
    },
    {
     "data": {
      "application/vnd.jupyter.widget-view+json": {
       "model_id": "33eada8b276b4abf97c8a73d3aed110b"
      }
     },
     "metadata": {},
     "output_type": "display_data"
    }
   ],
   "source": [
    "%%sql\n",
    "\n",
    "insert overwrite table nyctaxidb.nyctaxi_downsampled_dataset\n",
    "select\n",
    "t.medallion,\n",
    "t.hack_license,\n",
    "t.vendor_id,\n",
    "t.rate_code,\n",
    "t.store_and_fwd_flag,\n",
    "t.pickup_datetime,\n",
    "t.dropoff_datetime,\n",
    "hour(t.pickup_datetime) as pickup_hour,\n",
    "weekofyear(t.pickup_datetime) as pickup_week,\n",
    "from_unixtime(unix_timestamp(t.pickup_datetime, 'yyyy-MM-dd HH:mm:ss'),'u') as weekday,\n",
    "t.passenger_count,\n",
    "t.trip_time_in_secs,\n",
    "t.trip_distance,\n",
    "t.pickup_longitude,\n",
    "t.pickup_latitude,\n",
    "t.dropoff_longitude,\n",
    "t.dropoff_latitude,\n",
    "t.direct_distance,\n",
    "f.payment_type,\n",
    "f.fare_amount,\n",
    "f.surcharge,\n",
    "f.mta_tax,\n",
    "f.tip_amount,\n",
    "f.tolls_amount,\n",
    "f.total_amount,\n",
    "if(tip_amount>0,1,0) as tipped,\n",
    "if(tip_amount=0,0,\n",
    "if(tip_amount>0 and tip_amount<=5,1,\n",
    "if(tip_amount>5 and tip_amount<=10,2,\n",
    "if(tip_amount>10 and tip_amount<=20,3,4)))) as tip_class\n",
    "\n",
    "from\n",
    "(\n",
    "select\n",
    "medallion,\n",
    "hack_license,\n",
    "vendor_id,\n",
    "rate_code,\n",
    "store_and_fwd_flag,\n",
    "pickup_datetime,\n",
    "dropoff_datetime,\n",
    "passenger_count,\n",
    "trip_time_in_secs,\n",
    "trip_distance,\n",
    "pickup_longitude,\n",
    "pickup_latitude,\n",
    "dropoff_longitude,\n",
    "dropoff_latitude,\n",
    "3959*2*2*atan((1-sqrt(1-pow(sin((dropoff_latitude-pickup_latitude)\n",
    "*radians(180)/180/2),2)-cos(pickup_latitude*radians(180)/180)\n",
    "*cos(dropoff_latitude*radians(180)/180)*pow(sin((dropoff_longitude-pickup_longitude)*radians(180)/180/2),2)))\n",
    "/sqrt(pow(sin((dropoff_latitude-pickup_latitude)*radians(180)/180/2),2)\n",
    "+cos(pickup_latitude*radians(180)/180)*cos(dropoff_latitude*radians(180)/180)*pow(sin((dropoff_longitude-pickup_longitude)*radians(180)/180/2),2))) as direct_distance,\n",
    "rand() as sample_key\n",
    "\n",
    "from nyctaxidb.trip\n",
    "where pickup_latitude between 30 and 90\n",
    "    and pickup_longitude between -90 and -30\n",
    "    and dropoff_latitude between 30 and 90\n",
    "    and dropoff_longitude between -90 and -30\n",
    ")t\n",
    "join\n",
    "(\n",
    "select\n",
    "medallion,\n",
    "hack_license,\n",
    "vendor_id,\n",
    "pickup_datetime,\n",
    "payment_type,\n",
    "fare_amount,\n",
    "surcharge,\n",
    "mta_tax,\n",
    "tip_amount,\n",
    "tolls_amount,\n",
    "total_amount\n",
    "from nyctaxidb.fare\n",
    ")f\n",
    "on t.medallion=f.medallion and t.hack_license=f.hack_license and t.pickup_datetime=f.pickup_datetime\n",
    "where t.sample_key<=0.01"
   ]
  },
  {
   "cell_type": "code",
   "execution_count": 14,
   "metadata": {
    "cell_status": {
     "execute_time": {
      "duration": 3150.25390625,
      "end_time": 1595599756649.428
     }
    },
    "collapsed": false,
    "deletable": true,
    "editable": true
   },
   "outputs": [
    {
     "data": {
      "application/vnd.jupyter.widget-view+json": {
       "model_id": "96888518d999467b80ed039948eeba1d"
      }
     },
     "metadata": {},
     "output_type": "display_data"
    },
    {
     "data": {
      "application/vnd.jupyter.widget-view+json": {
       "model_id": "d50f2a1ed8474d4588e549cdc089764d"
      }
     },
     "metadata": {},
     "output_type": "display_data"
    }
   ],
   "source": [
    "%%sql\n",
    "\n",
    "select * from nyctaxidb.nyctaxi_downsampled_dataset"
   ]
  },
  {
   "cell_type": "code",
   "execution_count": null,
   "metadata": {
    "collapsed": true,
    "deletable": true,
    "editable": true
   },
   "outputs": [],
   "source": []
  }
 ],
 "metadata": {
  "kernelspec": {
   "display_name": "PySpark",
   "language": "",
   "name": "pysparkkernel"
  },
  "language_info": {
   "codemirror_mode": {
    "name": "python",
    "version": 2
   },
   "mimetype": "text/x-python",
   "name": "pyspark",
   "pygments_lexer": "python2"
  }
 },
 "nbformat": 4,
 "nbformat_minor": 2
}