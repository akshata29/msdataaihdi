{
 "cells": [
  {
   "cell_type": "code",
   "execution_count": 1,
   "metadata": {
    "cell_status": {
     "execute_time": {
      "duration": 3266.967041015625,
      "end_time": 1595697370513.421
     }
    },
    "collapsed": false,
    "deletable": true,
    "editable": true
   },
   "outputs": [
    {
     "name": "stdout",
     "output_type": "stream",
     "text": [
      "Starting Spark application\n"
     ]
    },
    {
     "data": {
      "text/html": [
       "<table>\n",
       "<tr><th>ID</th><th>YARN Application ID</th><th>Kind</th><th>State</th><th>Spark UI</th><th>Driver log</th><th>Current session?</th></tr><tr><td>4</td><td>application_1595680205259_0008</td><td>pyspark</td><td>idle</td><td><a target=\"_blank\" href=\"http://hn0-sparkh.uwguulvqr1kevfnztmsfrc5rqc.bx.internal.cloudapp.net:8088/proxy/application_1595680205259_0008/\">Link</a></td><td><a target=\"_blank\" href=\"http://wn4-sparkh.uwguulvqr1kevfnztmsfrc5rqc.bx.internal.cloudapp.net:30060/node/containerlogs/container_e01_1595680205259_0008_01_000001/livy\">Link</a></td><td>✔</td></tr></table>"
      ],
      "text/plain": [
       "<IPython.core.display.HTML object>"
      ]
     },
     "metadata": {},
     "output_type": "display_data"
    },
    {
     "name": "stdout",
     "output_type": "stream",
     "text": [
      "SparkSession available as 'spark'.\n"
     ]
    },
    {
     "name": "stderr",
     "output_type": "stream",
     "text": [
      "An error was encountered:\n",
      "u\"Table or view 'mldata' not found in database 'nyctaxidb';\"\n",
      "Traceback (most recent call last):\n",
      "  File \"/usr/hdp/current/spark2-client/python/pyspark/sql/session.py\", line 556, in sql\n",
      "    return DataFrame(self._jsparkSession.sql(sqlQuery), self._wrapped)\n",
      "  File \"/usr/hdp/current/spark2-client/python/lib/py4j-0.10.4-src.zip/py4j/java_gateway.py\", line 1133, in __call__\n",
      "    answer, self.gateway_client, self.target_id, self.name)\n",
      "  File \"/usr/hdp/current/spark2-client/python/pyspark/sql/utils.py\", line 71, in deco\n",
      "    raise AnalysisException(s.split(': ', 1)[1], stackTrace)\n",
      "AnalysisException: u\"Table or view 'mldata' not found in database 'nyctaxidb';\"\n",
      "\n"
     ]
    }
   ],
   "source": [
    "%%sql\n",
    "\n",
    "drop table if exist nyctaxidb.mldata"
   ]
  },
  {
   "cell_type": "code",
   "execution_count": 2,
   "metadata": {
    "cell_status": {
     "execute_time": {
      "duration": 3286.01708984375,
      "end_time": 1595697373961.643
     }
    },
    "collapsed": false,
    "deletable": true,
    "editable": true
   },
   "outputs": [
    {
     "data": {
      "application/vnd.jupyter.widget-view+json": {
       "model_id": "6fdf2500cef9425bb70ea36374367f09"
      }
     },
     "metadata": {},
     "output_type": "display_data"
    },
    {
     "data": {
      "application/vnd.jupyter.widget-view+json": {
       "model_id": "117f56ebd91b42df865ceb16be0562bd"
      }
     },
     "metadata": {},
     "output_type": "display_data"
    }
   ],
   "source": [
    "%%sql\n",
    "\n",
    "create external table if not exists nyctaxidb.mldata (\n",
    "\n",
    "medallion string,\n",
    "hack_license string,\n",
    "vendor_id string,\n",
    "rate_code string,\n",
    "store_and_fwd_flag string,\n",
    "pickup_datetime string,\n",
    "dropoff_datetime string,\n",
    "pickup_hour string,\n",
    "pickup_week string,\n",
    "weekday string,\n",
    "passenger_count int,\n",
    "trip_time_in_secs double,\n",
    "trip_distance double,\n",
    "pickup_longitude double,\n",
    "pickup_latitude double,\n",
    "dropoff_longitude double,\n",
    "dropoff_latitude double,\n",
    "direct_distance double,\n",
    "payment_type string,\n",
    "fare_amount double,\n",
    "surcharge double,\n",
    "mta_tax double,\n",
    "tip_amount double,\n",
    "tolls_amount double,\n",
    "total_amount double,\n",
    "tipped string,\n",
    "tip_class string\n",
    ")\n",
    "row format delimited fields terminated by ','\n",
    "lines terminated by '\\n'\n",
    "stored as textfile\n",
    "LOCATION '/nyctaxiraw/mldata' \n",
    "TBLPROPERTIES ('skip.header.line.count'='1')"
   ]
  },
  {
   "cell_type": "code",
   "execution_count": 3,
   "metadata": {
    "cell_status": {
     "execute_time": {
      "duration": 282660.8288574219,
      "end_time": 1595697656775.944
     }
    },
    "collapsed": false,
    "deletable": true,
    "editable": true
   },
   "outputs": [
    {
     "data": {
      "application/vnd.jupyter.widget-view+json": {
       "model_id": "9cbf802b2c8b4c4f86053a76273fb17e"
      }
     },
     "metadata": {},
     "output_type": "display_data"
    },
    {
     "data": {
      "application/vnd.jupyter.widget-view+json": {
       "model_id": "5570beacaf184581be4e59e74b784e6e"
      }
     },
     "metadata": {},
     "output_type": "display_data"
    }
   ],
   "source": [
    "%%sql\n",
    "\n",
    "insert overwrite table nyctaxidb.mldata\n",
    "select\n",
    "t.medallion,\n",
    "t.hack_license,\n",
    "t.vendor_id,\n",
    "t.rate_code,\n",
    "t.store_and_fwd_flag,\n",
    "t.pickup_datetime,\n",
    "t.dropoff_datetime,\n",
    "hour(t.pickup_datetime) as pickup_hour,\n",
    "weekofyear(t.pickup_datetime) as pickup_week,\n",
    "from_unixtime(unix_timestamp(t.pickup_datetime, 'yyyy-MM-dd HH:mm:ss'),'u') as weekday,\n",
    "t.passenger_count,\n",
    "t.trip_time_in_secs,\n",
    "t.trip_distance,\n",
    "t.pickup_longitude,\n",
    "t.pickup_latitude,\n",
    "t.dropoff_longitude,\n",
    "t.dropoff_latitude,\n",
    "t.direct_distance,\n",
    "f.payment_type,\n",
    "f.fare_amount,\n",
    "f.surcharge,\n",
    "f.mta_tax,\n",
    "f.tip_amount,\n",
    "f.tolls_amount,\n",
    "f.total_amount,\n",
    "if(tip_amount>0,1,0) as tipped,\n",
    "if(tip_amount=0,0,\n",
    "if(tip_amount>0 and tip_amount<=5,1,\n",
    "if(tip_amount>5 and tip_amount<=10,2,\n",
    "if(tip_amount>10 and tip_amount<=20,3,4)))) as tip_class\n",
    "\n",
    "from\n",
    "(\n",
    "select\n",
    "medallion,\n",
    "hack_license,\n",
    "vendor_id,\n",
    "rate_code,\n",
    "store_and_fwd_flag,\n",
    "pickup_datetime,\n",
    "dropoff_datetime,\n",
    "passenger_count,\n",
    "trip_time_in_secs,\n",
    "trip_distance,\n",
    "pickup_longitude,\n",
    "pickup_latitude,\n",
    "dropoff_longitude,\n",
    "dropoff_latitude,\n",
    "3959*2*2*atan((1-sqrt(1-pow(sin((dropoff_latitude-pickup_latitude)\n",
    "*radians(180)/180/2),2)-cos(pickup_latitude*radians(180)/180)\n",
    "*cos(dropoff_latitude*radians(180)/180)*pow(sin((dropoff_longitude-pickup_longitude)*radians(180)/180/2),2)))\n",
    "/sqrt(pow(sin((dropoff_latitude-pickup_latitude)*radians(180)/180/2),2)\n",
    "+cos(pickup_latitude*radians(180)/180)*cos(dropoff_latitude*radians(180)/180)*pow(sin((dropoff_longitude-pickup_longitude)*radians(180)/180/2),2))) as direct_distance,\n",
    "rand() as sample_key\n",
    "\n",
    "from nyctaxidb.trip\n",
    "where pickup_latitude between 30 and 90\n",
    "    and pickup_longitude between -90 and -30\n",
    "    and dropoff_latitude between 30 and 90\n",
    "    and dropoff_longitude between -90 and -30\n",
    ")t\n",
    "join\n",
    "(\n",
    "select\n",
    "medallion,\n",
    "hack_license,\n",
    "vendor_id,\n",
    "pickup_datetime,\n",
    "payment_type,\n",
    "fare_amount,\n",
    "surcharge,\n",
    "mta_tax,\n",
    "tip_amount,\n",
    "tolls_amount,\n",
    "total_amount\n",
    "from nyctaxidb.fare\n",
    ")f\n",
    "on t.medallion=f.medallion and t.hack_license=f.hack_license and t.pickup_datetime=f.pickup_datetime\n",
    "where t.sample_key<=0.01"
   ]
  },
  {
   "cell_type": "code",
   "execution_count": 4,
   "metadata": {
    "cell_status": {
     "execute_time": {
      "duration": 2433.998779296875,
      "end_time": 1595697659740.562
     }
    },
    "collapsed": false,
    "deletable": true,
    "editable": true
   },
   "outputs": [
    {
     "data": {
      "application/vnd.jupyter.widget-view+json": {
       "model_id": "2f9ea71878c040979ebbb1ab0f2037a6"
      }
     },
     "metadata": {},
     "output_type": "display_data"
    },
    {
     "data": {
      "application/vnd.jupyter.widget-view+json": {
       "model_id": "97165ab6b8b740078c281ee08d204a9e"
      }
     },
     "metadata": {},
     "output_type": "display_data"
    }
   ],
   "source": [
    "%%sql\n",
    "\n",
    "select * from nyctaxidb.mldata"
   ]
  },
  {
   "cell_type": "code",
   "execution_count": 19,
   "metadata": {
    "cell_status": {
     "execute_time": {
      "duration": 37406.927978515625,
      "end_time": 1595698584721.096
     }
    },
    "collapsed": false,
    "deletable": true,
    "editable": true
   },
   "outputs": [],
   "source": [
    "## Save the subset of data for MRS\n",
    "#rTripFareDf = spark.table('nyctaxidb.mldata')\n",
    "#rDf = rTripFareDf.sample(False, 0.1, seed=1234)\n",
    "#rTripFareDf.coalesce(1).write.option(\"header\", \"true\").csv(\"/nyctaxiraw/rdata/rmlData.csv\")\n",
    "#rDf.toPandas().to_csv(\"/nyctaxiraw/rdata/rmlData.csv\", header=True)"
   ]
  },
  {
   "cell_type": "code",
   "execution_count": null,
   "metadata": {
    "collapsed": true
   },
   "outputs": [],
   "source": []
  }
 ],
 "metadata": {
  "kernelspec": {
   "display_name": "PySpark",
   "language": "",
   "name": "pysparkkernel"
  },
  "language_info": {
   "codemirror_mode": {
    "name": "python",
    "version": 2
   },
   "mimetype": "text/x-python",
   "name": "pyspark",
   "pygments_lexer": "python2"
  }
 },
 "nbformat": 4,
 "nbformat_minor": 2
}